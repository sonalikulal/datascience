{
  "nbformat": 4,
  "nbformat_minor": 0,
  "metadata": {
    "colab": {
      "provenance": []
    },
    "kernelspec": {
      "name": "python3",
      "display_name": "Python 3"
    },
    "language_info": {
      "name": "python"
    }
  },
  "cells": [
    {
      "cell_type": "code",
      "execution_count": null,
      "metadata": {
        "colab": {
          "base_uri": "https://localhost:8080/"
        },
        "id": "NnCSK9UNwqhP",
        "outputId": "38114e5a-5570-4134-c40c-d2dc74b278fb"
      },
      "outputs": [
        {
          "output_type": "stream",
          "name": "stdout",
          "text": [
            "Input data (N, featuers): [[ 40  35  80]\n",
            " [ 80  50  90]\n",
            " [ 20  55  40]\n",
            " [ 94  80  88]\n",
            " [ 90  30 100]] (5, 3)\n",
            "avg [64.8, 50.0, 79.6]\n",
            "cov [[1085.2  130.   670.4]\n",
            " [ 130.   387.5  -90. ]\n",
            " [ 670.4  -90.   540.8]]\n",
            "numpy cov [[1085.2  130.   670.4]\n",
            " [ 130.   387.5  -90. ]\n",
            " [ 670.4  -90.   540.8]]\n"
          ]
        }
      ],
      "source": [
        "import numpy as np\n",
        "\n",
        "data = np.array([[40, 35, 80],\n",
        "                 [80, 50, 90],\n",
        "                 [20, 55, 40],\n",
        "                 [94, 80, 88],\n",
        "                 [90, 30, 100]])\n",
        "print('Input data (N, featuers):', data, data.shape)\n",
        "N = data.shape[0]\n",
        "n_dim = data.shape[1]\n",
        "cov = np.zeros((n_dim, n_dim))\n",
        "\n",
        "# E(X)\n",
        "avg = []\n",
        "for i in range(n_dim):\n",
        "    avg.append(sum([d[i] for d in data]) / N)\n",
        "print('avg', avg)\n",
        "\n",
        "# covariance matrix\n",
        "for i in range(n_dim):\n",
        "    for j in range(n_dim):\n",
        "        var = 0\n",
        "        for d in data:\n",
        "            var += (d[i] - avg[i]) * (d[j] - avg[j])\n",
        "        var /= (N - 1)\n",
        "        cov[i, j] = var\n",
        "print('cov', cov)\n",
        "print('numpy cov', np.cov(data, rowvar=False, bias=False))"
      ]
    },
    {
      "cell_type": "code",
      "source": [],
      "metadata": {
        "id": "AydlNy7vwwiE"
      },
      "execution_count": null,
      "outputs": []
    }
  ]
}