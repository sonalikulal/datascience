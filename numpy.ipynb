{
  "nbformat": 4,
  "nbformat_minor": 0,
  "metadata": {
    "colab": {
      "provenance": []
    },
    "kernelspec": {
      "name": "python3",
      "display_name": "Python 3"
    },
    "language_info": {
      "name": "python"
    }
  },
  "cells": [
    {
      "cell_type": "markdown",
      "source": [
        "**Numerical analysis and data manipulation using the numpy library**"
      ],
      "metadata": {
        "id": "dzBvJsAXN4_u"
      }
    },
    {
      "cell_type": "markdown",
      "source": [
        "***1.create a numpy array***"
      ],
      "metadata": {
        "id": "Fv51DIYZNpz_"
      }
    },
    {
      "cell_type": "code",
      "source": [
        "import numpy as np\n",
        "arr1=np.array([1,2,3])\n",
        "print(arr1)"
      ],
      "metadata": {
        "colab": {
          "base_uri": "https://localhost:8080/"
        },
        "id": "ODcZglV4OBkO",
        "outputId": "83e48620-89e4-4547-e257-a433fd4f6f9c"
      },
      "execution_count": null,
      "outputs": [
        {
          "output_type": "stream",
          "name": "stdout",
          "text": [
            "[1 2 3]\n"
          ]
        }
      ]
    },
    {
      "cell_type": "code",
      "source": [],
      "metadata": {
        "id": "ZCQXnKjNOgnH"
      },
      "execution_count": null,
      "outputs": []
    },
    {
      "cell_type": "markdown",
      "source": [
        "***2.Access and manipulates elements in the array***"
      ],
      "metadata": {
        "id": "7ivXDLjNOtT4"
      }
    },
    {
      "cell_type": "code",
      "source": [
        "arr1[2]"
      ],
      "metadata": {
        "colab": {
          "base_uri": "https://localhost:8080/"
        },
        "id": "byMHCmf5PC0l",
        "outputId": "4ce0241a-35cc-4753-a5a2-debcfceb8020"
      },
      "execution_count": null,
      "outputs": [
        {
          "output_type": "execute_result",
          "data": {
            "text/plain": [
              "3"
            ]
          },
          "metadata": {},
          "execution_count": 2
        }
      ]
    },
    {
      "cell_type": "code",
      "source": [
        "#chane an element from the array\n",
        "arr1[2]=5\n",
        "arr1"
      ],
      "metadata": {
        "colab": {
          "base_uri": "https://localhost:8080/"
        },
        "id": "m53hZ_aUQSQ-",
        "outputId": "35141b2b-670c-47d4-a2a8-c1773c0babf2"
      },
      "execution_count": null,
      "outputs": [
        {
          "output_type": "execute_result",
          "data": {
            "text/plain": [
              "array([1, 2, 5])"
            ]
          },
          "metadata": {},
          "execution_count": 4
        }
      ]
    },
    {
      "cell_type": "markdown",
      "source": [
        "***3.create a 2-dimensional array and check the shapes of the array***"
      ],
      "metadata": {
        "id": "TKNY5qoBPzxo"
      }
    },
    {
      "cell_type": "code",
      "source": [
        "#create 2d array\n",
        "arr2=np.array([[1,2,3],[4,5,6]])\n",
        "print(arr2)"
      ],
      "metadata": {
        "colab": {
          "base_uri": "https://localhost:8080/"
        },
        "id": "eL0ebvbgQFAu",
        "outputId": "8062b937-0682-41ec-ffb1-9816de8654f0"
      },
      "execution_count": null,
      "outputs": [
        {
          "output_type": "stream",
          "name": "stdout",
          "text": [
            "[[1 2 3]\n",
            " [4 5 6]]\n"
          ]
        }
      ]
    },
    {
      "cell_type": "code",
      "source": [
        "#check the shape of the array\n",
        "print(\"the shape of 2 rows and 3 column:\",arr2.shape)"
      ],
      "metadata": {
        "colab": {
          "base_uri": "https://localhost:8080/"
        },
        "id": "nXqtFpQIRBev",
        "outputId": "539f2f91-70fa-4751-d59d-f9d115a6eef8"
      },
      "execution_count": null,
      "outputs": [
        {
          "output_type": "stream",
          "name": "stdout",
          "text": [
            "the shape of 2 rows and 3 column: (2, 3)\n"
          ]
        }
      ]
    },
    {
      "cell_type": "markdown",
      "source": [
        "***4.Access elements from the 2d array using index positions.***"
      ],
      "metadata": {
        "id": "rTICU_BpR51m"
      }
    },
    {
      "cell_type": "code",
      "source": [
        "#accessing elements from the array\n",
        "print(arr2[0][2])\n",
        "print(arr2[0,2])\n",
        "print(arr2[0,-1])\n",
        "print(arr2[-1,0])"
      ],
      "metadata": {
        "colab": {
          "base_uri": "https://localhost:8080/"
        },
        "id": "BtfeIdZLRqqu",
        "outputId": "9fd5d76e-6bb3-485c-e9fb-e813c8fe5de2"
      },
      "execution_count": null,
      "outputs": [
        {
          "output_type": "stream",
          "name": "stdout",
          "text": [
            "3\n",
            "3\n",
            "3\n",
            "4\n"
          ]
        }
      ]
    },
    {
      "cell_type": "markdown",
      "source": [
        "***5.create an array of the string***"
      ],
      "metadata": {
        "id": "0VRL5U7tSfw_"
      }
    },
    {
      "cell_type": "code",
      "source": [
        "# array of type string\n",
        "arr3=np.array(['india','china','usa','mexico'])\n",
        "print(arr3)"
      ],
      "metadata": {
        "colab": {
          "base_uri": "https://localhost:8080/"
        },
        "id": "8f49j5Y0SZgH",
        "outputId": "485e4931-85aa-410d-d8f8-ad08b285f706"
      },
      "execution_count": null,
      "outputs": [
        {
          "output_type": "stream",
          "name": "stdout",
          "text": [
            "['india' 'china' 'usa' 'mexico']\n"
          ]
        }
      ]
    },
    {
      "cell_type": "markdown",
      "source": [
        "***6.using the arrange() and linespace() function to evenly space values in specified interval***"
      ],
      "metadata": {
        "id": "IeftWKfgTAN_"
      }
    },
    {
      "cell_type": "code",
      "source": [
        "# array of evenly spaced value within a specified interval\n",
        "arr=np.arange(0,20,2)\n",
        "print(arr)"
      ],
      "metadata": {
        "colab": {
          "base_uri": "https://localhost:8080/"
        },
        "id": "leEP77AES4fH",
        "outputId": "f3add89b-16f2-4069-a639-b42046ff80ab"
      },
      "execution_count": null,
      "outputs": [
        {
          "output_type": "stream",
          "name": "stdout",
          "text": [
            "[ 0  2  4  6  8 10 12 14 16 18]\n"
          ]
        }
      ]
    },
    {
      "cell_type": "code",
      "source": [
        "# array of evenly space no in a specified interval\n",
        "arr=np.linspace(0,10,20)\n",
        "print(arr)"
      ],
      "metadata": {
        "colab": {
          "base_uri": "https://localhost:8080/"
        },
        "id": "j4EFAPYNTsrg",
        "outputId": "c9d4ee67-8df9-463a-accd-25edf0a0c82e"
      },
      "execution_count": null,
      "outputs": [
        {
          "output_type": "stream",
          "name": "stdout",
          "text": [
            "[ 0.          0.52631579  1.05263158  1.57894737  2.10526316  2.63157895\n",
            "  3.15789474  3.68421053  4.21052632  4.73684211  5.26315789  5.78947368\n",
            "  6.31578947  6.84210526  7.36842105  7.89473684  8.42105263  8.94736842\n",
            "  9.47368421 10.        ]\n"
          ]
        }
      ]
    },
    {
      "cell_type": "markdown",
      "source": [
        "***7.create an array of random values between 0 and 1 in a given shape***"
      ],
      "metadata": {
        "id": "s4ozfTj9Uaw2"
      }
    },
    {
      "cell_type": "code",
      "source": [
        "arr=np.random.rand(10)\n",
        "print(arr)\n",
        "print('\\n')\n",
        "arr=np.random.rand(3,4)\n",
        "print(arr)"
      ],
      "metadata": {
        "colab": {
          "base_uri": "https://localhost:8080/"
        },
        "id": "7Kosk649UJSv",
        "outputId": "93f5d9dd-0ed5-461f-fbc1-8fa4a365cff6"
      },
      "execution_count": null,
      "outputs": [
        {
          "output_type": "stream",
          "name": "stdout",
          "text": [
            "[0.01951485 0.55913521 0.54438097 0.62160331 0.36844141 0.5215554\n",
            " 0.53593505 0.76011977 0.01918591 0.60247546]\n",
            "\n",
            "\n",
            "[[0.36021674 0.42389705 0.37027332 0.9050331 ]\n",
            " [0.64816843 0.82077368 0.04359524 0.27820641]\n",
            " [0.29308195 0.77697733 0.43931553 0.82038561]]\n"
          ]
        }
      ]
    },
    {
      "cell_type": "markdown",
      "source": [
        "***8.create an array of constant values in a given shape.***"
      ],
      "metadata": {
        "id": "5AmQarGdVwnn"
      }
    },
    {
      "cell_type": "code",
      "source": [
        "print(np.full((4,6),10))"
      ],
      "metadata": {
        "colab": {
          "base_uri": "https://localhost:8080/"
        },
        "id": "UBw3AA82U4fX",
        "outputId": "d1bf33be-c0f5-4e1c-e3a8-8d340f72f7e8"
      },
      "execution_count": null,
      "outputs": [
        {
          "output_type": "stream",
          "name": "stdout",
          "text": [
            "[[10 10 10 10 10 10]\n",
            " [10 10 10 10 10 10]\n",
            " [10 10 10 10 10 10]\n",
            " [10 10 10 10 10 10]]\n"
          ]
        }
      ]
    },
    {
      "cell_type": "markdown",
      "source": [
        "***9.repeat each elements of an array by a specified number of times using repeat() and tile() function.***"
      ],
      "metadata": {
        "id": "5p2Yr90iWMU4"
      }
    },
    {
      "cell_type": "code",
      "source": [
        "arr=[0,1,2]\n",
        "print(np.repeat(arr,3))"
      ],
      "metadata": {
        "colab": {
          "base_uri": "https://localhost:8080/"
        },
        "id": "ocXsq6gsWEdw",
        "outputId": "d37df129-a1c5-4747-8655-a71611cb4f44"
      },
      "execution_count": null,
      "outputs": [
        {
          "output_type": "stream",
          "name": "stdout",
          "text": [
            "[0 0 0 1 1 1 2 2 2]\n"
          ]
        }
      ]
    },
    {
      "cell_type": "code",
      "source": [
        "#repeat an array by a specified number of times \n",
        "arr=[0,1,2]\n",
        "print(np.tile(arr,3))"
      ],
      "metadata": {
        "colab": {
          "base_uri": "https://localhost:8080/"
        },
        "id": "RMmhcEu5WmLE",
        "outputId": "a9fe213f-2fb6-4a07-d0b0-fa65ee19d1a1"
      },
      "execution_count": null,
      "outputs": [
        {
          "output_type": "stream",
          "name": "stdout",
          "text": [
            "[0 1 2 0 1 2 0 1 2]\n"
          ]
        }
      ]
    },
    {
      "cell_type": "markdown",
      "source": [
        "***10.create an identity using eye() and identity() function.***"
      ],
      "metadata": {
        "id": "PEAmPwkFXIlA"
      }
    },
    {
      "cell_type": "code",
      "source": [
        "identity_matrix=np.eye(3)\n",
        "print(identity_matrix)"
      ],
      "metadata": {
        "colab": {
          "base_uri": "https://localhost:8080/"
        },
        "id": "QIXtyNF8XDzn",
        "outputId": "0807f139-15fd-4145-a6d9-15343e0ce1b6"
      },
      "execution_count": null,
      "outputs": [
        {
          "output_type": "stream",
          "name": "stdout",
          "text": [
            "[[1. 0. 0.]\n",
            " [0. 1. 0.]\n",
            " [0. 0. 1.]]\n"
          ]
        }
      ]
    },
    {
      "cell_type": "code",
      "source": [
        "identity_matrix=np.identity(3)\n",
        "print(identity_matrix)"
      ],
      "metadata": {
        "colab": {
          "base_uri": "https://localhost:8080/"
        },
        "id": "19aAjPOvXeVg",
        "outputId": "0a28739b-9078-44da-cf1f-46912723f293"
      },
      "execution_count": null,
      "outputs": [
        {
          "output_type": "stream",
          "name": "stdout",
          "text": [
            "[[1. 0. 0.]\n",
            " [0. 1. 0.]\n",
            " [0. 0. 1.]]\n"
          ]
        }
      ]
    },
    {
      "cell_type": "markdown",
      "source": [
        "***11.create a 5x5 2d array for random number between 0 and 1***"
      ],
      "metadata": {
        "id": "cYRS9v-lXymH"
      }
    },
    {
      "cell_type": "code",
      "source": [
        "arr=np.random.rand(5,5)\n",
        "print(arr)"
      ],
      "metadata": {
        "colab": {
          "base_uri": "https://localhost:8080/"
        },
        "id": "WSPWkYSUXr9b",
        "outputId": "6657d948-e3f0-4a44-8a3e-2b4f7d828a2e"
      },
      "execution_count": null,
      "outputs": [
        {
          "output_type": "stream",
          "name": "stdout",
          "text": [
            "[[0.36296456 0.18034735 0.84050035 0.50539573 0.00515271]\n",
            " [0.69930034 0.31002478 0.08529775 0.93383352 0.0026234 ]\n",
            " [0.78060218 0.86561184 0.32862027 0.63970835 0.50222837]\n",
            " [0.44817982 0.04423951 0.43344354 0.75533547 0.20870905]\n",
            " [0.22750189 0.88264869 0.37702669 0.18769593 0.46818775]]\n"
          ]
        }
      ]
    },
    {
      "cell_type": "markdown",
      "source": [
        "***12.sum an array along the column.***"
      ],
      "metadata": {
        "id": "xcz2MJwSYcFn"
      }
    },
    {
      "cell_type": "code",
      "source": [
        "print(np.sum(arr,axis=0))"
      ],
      "metadata": {
        "colab": {
          "base_uri": "https://localhost:8080/"
        },
        "id": "dgmX1_3yYELY",
        "outputId": "75b5312c-8af5-4dac-e038-dc5f09fa0003"
      },
      "execution_count": null,
      "outputs": [
        {
          "output_type": "stream",
          "name": "stdout",
          "text": [
            "[2.51854879 2.28287217 2.0648886  3.021969   1.18690128]\n"
          ]
        }
      ]
    },
    {
      "cell_type": "markdown",
      "source": [
        "***13.sum an array along the row***"
      ],
      "metadata": {
        "id": "NEfXHJEIZPoo"
      }
    },
    {
      "cell_type": "code",
      "source": [
        "print(np.sum(arr,axis=1))"
      ],
      "metadata": {
        "colab": {
          "base_uri": "https://localhost:8080/"
        },
        "id": "dvGNtXNgYxJo",
        "outputId": "0c77e236-0357-4497-b6f0-5cc6b5248465"
      },
      "execution_count": null,
      "outputs": [
        {
          "output_type": "stream",
          "name": "stdout",
          "text": [
            "[1.89436069 2.03107978 3.11677101 1.8899074  2.14306096]\n"
          ]
        }
      ]
    },
    {
      "cell_type": "markdown",
      "source": [
        "***14.calculate the mean ,median,standard deviation, and varience***"
      ],
      "metadata": {
        "id": "EUzW-U7LZ38h"
      }
    },
    {
      "cell_type": "code",
      "source": [
        "print(np.mean(arr))\n",
        "print(np.median(arr))\n",
        "print(np.std(arr))\n",
        "print(np.var(arr))\n"
      ],
      "metadata": {
        "colab": {
          "base_uri": "https://localhost:8080/"
        },
        "id": "NCMoueiVZ1bZ",
        "outputId": "5f0fd34c-d065-4a5c-869a-159cf206f3c4"
      },
      "execution_count": null,
      "outputs": [
        {
          "output_type": "stream",
          "name": "stdout",
          "text": [
            "0.44300719329534916\n",
            "0.43344353872495456\n",
            "0.2859724813665801\n",
            "0.081780260098959\n"
          ]
        }
      ]
    },
    {
      "cell_type": "markdown",
      "source": [
        "***15.sort an array along the row using the sort()function ***"
      ],
      "metadata": {
        "id": "in6bRTy_aeJP"
      }
    },
    {
      "cell_type": "code",
      "source": [
        "arr=np.random.rand(5,5)\n",
        "print(arr)"
      ],
      "metadata": {
        "colab": {
          "base_uri": "https://localhost:8080/"
        },
        "id": "nI3yDszgaVKx",
        "outputId": "8a853fbe-ed40-4db4-b809-7a25b22c2238"
      },
      "execution_count": null,
      "outputs": [
        {
          "output_type": "stream",
          "name": "stdout",
          "text": [
            "[[0.04986838 0.10610905 0.2445894  0.93847247 0.15200976]\n",
            " [0.1688281  0.25944584 0.1860452  0.82951179 0.30430353]\n",
            " [0.78550159 0.66155593 0.53672287 0.84774717 0.62785348]\n",
            " [0.60751275 0.46389771 0.83976286 0.05170541 0.52898746]\n",
            " [0.09268526 0.18581819 0.72908549 0.31675366 0.34124947]]\n"
          ]
        }
      ]
    },
    {
      "cell_type": "code",
      "source": [
        "print(np.sort(arr,axis=1))"
      ],
      "metadata": {
        "colab": {
          "base_uri": "https://localhost:8080/"
        },
        "id": "M-K7MlfpaueY",
        "outputId": "98f0b3b2-13fc-4eea-b3b2-a837883de4ac"
      },
      "execution_count": null,
      "outputs": [
        {
          "output_type": "stream",
          "name": "stdout",
          "text": [
            "[[0.04986838 0.10610905 0.15200976 0.2445894  0.93847247]\n",
            " [0.1688281  0.1860452  0.25944584 0.30430353 0.82951179]\n",
            " [0.53672287 0.62785348 0.66155593 0.78550159 0.84774717]\n",
            " [0.05170541 0.46389771 0.52898746 0.60751275 0.83976286]\n",
            " [0.09268526 0.18581819 0.31675366 0.34124947 0.72908549]]\n"
          ]
        }
      ]
    },
    {
      "cell_type": "markdown",
      "source": [
        "***16.append elements to an array using the append()function***"
      ],
      "metadata": {
        "id": "TQJvD7IYbY1Z"
      }
    },
    {
      "cell_type": "code",
      "source": [
        "arr=np.array([4,5,6,7])\n",
        "arr1=np.append(arr,8)\n",
        "arr1"
      ],
      "metadata": {
        "colab": {
          "base_uri": "https://localhost:8080/"
        },
        "id": "DslQX9oUbKEp",
        "outputId": "68dc76aa-df3d-4bad-b197-b9ac752b841b"
      },
      "execution_count": null,
      "outputs": [
        {
          "output_type": "execute_result",
          "data": {
            "text/plain": [
              "array([4, 5, 6, 7, 8])"
            ]
          },
          "metadata": {},
          "execution_count": 24
        }
      ]
    },
    {
      "cell_type": "code",
      "source": [
        "arr2=np.append(arr,[9,10,11])\n",
        "print(arr2)"
      ],
      "metadata": {
        "colab": {
          "base_uri": "https://localhost:8080/"
        },
        "id": "AnV0mYjXbyLR",
        "outputId": "eacd919c-d011-4005-ad6d-8268b8f5500f"
      },
      "execution_count": null,
      "outputs": [
        {
          "output_type": "stream",
          "name": "stdout",
          "text": [
            "[ 4  5  6  7  9 10 11]\n"
          ]
        }
      ]
    },
    {
      "cell_type": "markdown",
      "source": [
        "***17.delete multiple elements in an array***"
      ],
      "metadata": {
        "id": "RBYdJ7NmcAkp"
      }
    },
    {
      "cell_type": "code",
      "source": [
        "arr2=np.array([4,5,6,7,9,10,11])\n",
        "print(arr2)\n",
        "print('\\n')\n",
        "arr5=np.delete(arr2,[1,4])\n",
        "print(arr5)"
      ],
      "metadata": {
        "colab": {
          "base_uri": "https://localhost:8080/"
        },
        "id": "5YHiDcLUb8cR",
        "outputId": "a188af4a-92d2-46aa-d49a-ff413421ee60"
      },
      "execution_count": null,
      "outputs": [
        {
          "output_type": "stream",
          "name": "stdout",
          "text": [
            "[ 4  5  6  7  9 10 11]\n",
            "\n",
            "\n",
            "[ 4  6  7 10 11]\n"
          ]
        }
      ]
    },
    {
      "cell_type": "markdown",
      "source": [
        "***18.concatenation elements from 2 array***"
      ],
      "metadata": {
        "id": "_aSy1vmicgyx"
      }
    },
    {
      "cell_type": "code",
      "source": [
        "arr1=np.array([[1,2,3,4],[1,2,3,4]])\n",
        "arr2=np.array([[5,6,7,8],[5,6,7,8]])\n",
        "cat=np.concatenate((arr1,arr2),axis=0)\n",
        "print(cat)"
      ],
      "metadata": {
        "colab": {
          "base_uri": "https://localhost:8080/"
        },
        "id": "PshJy57WcYkz",
        "outputId": "5505fcf5-8170-4dd2-a78d-371a4872c7b9"
      },
      "execution_count": null,
      "outputs": [
        {
          "output_type": "stream",
          "name": "stdout",
          "text": [
            "[[1 2 3 4]\n",
            " [1 2 3 4]\n",
            " [5 6 7 8]\n",
            " [5 6 7 8]]\n"
          ]
        }
      ]
    },
    {
      "cell_type": "code",
      "source": [
        "#combine array item by rows\n",
        "cat=np.concatenate((arr1,arr2),axis=1)\n",
        "print(cat)"
      ],
      "metadata": {
        "colab": {
          "base_uri": "https://localhost:8080/"
        },
        "id": "xPjz29K2dAMY",
        "outputId": "817cdcc6-4233-4769-e772-f499a5efde1d"
      },
      "execution_count": null,
      "outputs": [
        {
          "output_type": "stream",
          "name": "stdout",
          "text": [
            "[[1 2 3 4 5 6 7 8]\n",
            " [1 2 3 4 5 6 7 8]]\n"
          ]
        }
      ]
    },
    {
      "cell_type": "code",
      "source": [],
      "metadata": {
        "id": "TkiyMuEgdnPh"
      },
      "execution_count": null,
      "outputs": []
    }
  ]
}