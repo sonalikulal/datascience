{
 "cells": [
  {
   "cell_type": "code",
   "execution_count": 2,
   "id": "87e8d1eb",
   "metadata": {},
   "outputs": [
    {
     "name": "stdout",
     "output_type": "stream",
     "text": [
      "[ 3. nan  0.  4. nan]\n"
     ]
    }
   ],
   "source": [
    "#calculating with missing data\n",
    "import numpy as np\n",
    "import pandas as pd\n",
    "array=np.array([3,np.nan,0,4,np.nan])\n",
    "print(array)"
   ]
  },
  {
   "cell_type": "code",
   "execution_count": 5,
   "id": "47322fb6",
   "metadata": {},
   "outputs": [],
   "source": [
    "#cleaning missing data\n",
    "import numpy as np\n",
    "import pandas as pd\n",
    "#create a csv dataset\n",
    "data_string='''Id,Gender,Salary,Country,Company\n",
    "1,Male,15000,India,Google\n",
    "2,Female,45000,China,NaN\n",
    "3,Female,25000,India,Google\n",
    "4,NaN,NaN,Australia,Google\n",
    "5,Male,NaN,India,Google\n",
    "6,Male,54000,NaN,Alibaba\n",
    "7,NaN,74000,China,NaN\n",
    "8,Male,14000,Australia,NaN\n",
    "9,Female,15000,NaN,NaN\n",
    "10,Male,33000,Australia,NaN'''\n",
    "with open('Salary.csv','w') as out:\n",
    "    out.write(data_string)\n",
    "    "
   ]
  },
  {
   "cell_type": "code",
   "execution_count": 7,
   "id": "a301767d",
   "metadata": {},
   "outputs": [
    {
     "name": "stdout",
     "output_type": "stream",
     "text": [
      "salary dataset:\n",
      "    Id  Gender   Salary    Country  Company\n",
      "0   1    Male  15000.0      India   Google\n",
      "1   2  Female  45000.0      China      NaN\n",
      "2   3  Female  25000.0      India   Google\n",
      "3   4     NaN      NaN  Australia   Google\n",
      "4   5    Male      NaN      India   Google\n",
      "5   6    Male  54000.0        NaN  Alibaba\n",
      "6   7     NaN  74000.0      China      NaN\n",
      "7   8    Male  14000.0  Australia      NaN\n",
      "8   9  Female  15000.0        NaN      NaN\n",
      "9  10    Male  33000.0  Australia      NaN\n",
      "missing data:\n",
      "       Id  Gender  Salary  Country  Company\n",
      "0  False   False   False    False    False\n",
      "1  False   False   False    False     True\n",
      "2  False   False   False    False    False\n",
      "3  False    True    True    False    False\n",
      "4  False   False    True    False    False\n",
      "5  False   False   False     True    False\n",
      "6  False    True   False    False     True\n",
      "7  False   False   False    False     True\n",
      "8  False   False   False     True     True\n",
      "9  False   False   False    False     True\n",
      "missing data:\n",
      "       Id  Gender  Salary  Country  Company\n",
      "0  False   False   False    False    False\n",
      "1  False   False   False    False     True\n",
      "2  False   False   False    False    False\n",
      "3  False    True    True    False    False\n",
      "4  False   False    True    False    False\n",
      "5  False   False   False     True    False\n",
      "6  False    True   False    False     True\n",
      "7  False   False   False    False     True\n",
      "8  False   False   False     True     True\n",
      "9  False   False   False    False     True\n",
      "filter based on columns:\n",
      "    Id  Gender   Salary    Country  Company\n",
      "1   2  Female  45000.0      China      NaN\n",
      "3   4     NaN      NaN  Australia   Google\n",
      "4   5    Male      NaN      India   Google\n",
      "5   6    Male  54000.0        NaN  Alibaba\n",
      "6   7     NaN  74000.0      China      NaN\n",
      "7   8    Male  14000.0  Australia      NaN\n",
      "8   9  Female  15000.0        NaN      NaN\n",
      "9  10    Male  33000.0  Australia      NaN\n",
      "sum up the missing values:\n",
      " Id         0\n",
      "Gender     2\n",
      "Salary     2\n",
      "Country    2\n",
      "Company    5\n",
      "dtype: int64\n"
     ]
    }
   ],
   "source": [
    "#import the dataset\n",
    "df=pd.read_csv('Salary.csv')\n",
    "print('salary dataset:\\n',df)\n",
    "#check for missing data\n",
    "print('missing data:\\n',df.isna())\n",
    "print('missing data:\\n',df.isnull())\n",
    "#print only missing data\n",
    "print('filter based on columns:\\n',df[df.isnull().any(axis=1)])\n",
    "#sum up the missing values\n",
    "print('sum up the missing values:\\n',df.isnull().sum())\n",
    "    "
   ]
  },
  {
   "cell_type": "code",
   "execution_count": 8,
   "id": "facae99d",
   "metadata": {},
   "outputs": [
    {
     "name": "stdout",
     "output_type": "stream",
     "text": [
      "   Id  Gender   Salary Country Company\n",
      "0   1    Male  15000.0   India  Google\n",
      "2   3  Female  25000.0   India  Google\n"
     ]
    }
   ],
   "source": [
    "#dropping missing data\n",
    "df.dropna(inplace=True)\n",
    "print(df)"
   ]
  },
  {
   "cell_type": "code",
   "execution_count": 9,
   "id": "e8a213c1",
   "metadata": {},
   "outputs": [
    {
     "name": "stdout",
     "output_type": "stream",
     "text": [
      "   Id  Gender   Salary Country Company\n",
      "0   1    Male  15000.0   India  Google\n",
      "2   3  Female  25000.0   India  Google\n"
     ]
    }
   ],
   "source": [
    "#replacing missing data\n",
    "df[\"Salary\"].fillna(20000,inplace=True)\n",
    "print(df)"
   ]
  },
  {
   "cell_type": "code",
   "execution_count": 10,
   "id": "bf2809da",
   "metadata": {},
   "outputs": [
    {
     "data": {
      "text/plain": [
       "0    False\n",
       "2    False\n",
       "Name: Gender, dtype: bool"
      ]
     },
     "execution_count": 10,
     "metadata": {},
     "output_type": "execute_result"
    }
   ],
   "source": [
    "#import functions for handling missing data in pandas\n",
    "gender=pd.isnull(df[\"Gender\"])\n",
    "gender"
   ]
  },
  {
   "cell_type": "code",
   "execution_count": 11,
   "id": "80f4fbe6",
   "metadata": {},
   "outputs": [
    {
     "name": "stdout",
     "output_type": "stream",
     "text": [
      "Non missing data\n",
      "      Id  Gender  Salary  Country  Company\n",
      "0  True    True    True     True     True\n",
      "2  True    True    True     True     True\n"
     ]
    }
   ],
   "source": [
    "#notnull()\n",
    "print('Non missing data\\n',df.notnull())"
   ]
  },
  {
   "cell_type": "code",
   "execution_count": 13,
   "id": "7681ce13",
   "metadata": {},
   "outputs": [
    {
     "name": "stdout",
     "output_type": "stream",
     "text": [
      "drop missing company data\n",
      " 0    Google\n",
      "2    Google\n",
      "Name: Company, dtype: object\n"
     ]
    },
    {
     "data": {
      "text/html": [
       "<div>\n",
       "<style scoped>\n",
       "    .dataframe tbody tr th:only-of-type {\n",
       "        vertical-align: middle;\n",
       "    }\n",
       "\n",
       "    .dataframe tbody tr th {\n",
       "        vertical-align: top;\n",
       "    }\n",
       "\n",
       "    .dataframe thead th {\n",
       "        text-align: right;\n",
       "    }\n",
       "</style>\n",
       "<table border=\"1\" class=\"dataframe\">\n",
       "  <thead>\n",
       "    <tr style=\"text-align: right;\">\n",
       "      <th></th>\n",
       "      <th>Id</th>\n",
       "      <th>Gender</th>\n",
       "      <th>Salary</th>\n",
       "      <th>Country</th>\n",
       "      <th>Company</th>\n",
       "    </tr>\n",
       "  </thead>\n",
       "  <tbody>\n",
       "    <tr>\n",
       "      <th>0</th>\n",
       "      <td>1</td>\n",
       "      <td>Male</td>\n",
       "      <td>15000.0</td>\n",
       "      <td>India</td>\n",
       "      <td>Google</td>\n",
       "    </tr>\n",
       "    <tr>\n",
       "      <th>2</th>\n",
       "      <td>3</td>\n",
       "      <td>Female</td>\n",
       "      <td>25000.0</td>\n",
       "      <td>India</td>\n",
       "      <td>Google</td>\n",
       "    </tr>\n",
       "  </tbody>\n",
       "</table>\n",
       "</div>"
      ],
      "text/plain": [
       "   Id  Gender   Salary Country Company\n",
       "0   1    Male  15000.0   India  Google\n",
       "2   3  Female  25000.0   India  Google"
      ]
     },
     "execution_count": 13,
     "metadata": {},
     "output_type": "execute_result"
    }
   ],
   "source": [
    "#dropna()\n",
    "print('drop missing company data\\n',df.Company.dropna())\n",
    "df.dropna()"
   ]
  },
  {
   "cell_type": "code",
   "execution_count": 14,
   "id": "c894c39f",
   "metadata": {},
   "outputs": [
    {
     "name": "stdout",
     "output_type": "stream",
     "text": [
      "   Id  Gender   Salary Country Company\n",
      "0   1    Male  15000.0   India  Google\n",
      "2   3  Female  25000.0   India  Google\n"
     ]
    }
   ],
   "source": [
    "#eleminate columns with at least one missing value\n",
    "df.dropna(axis=1)\n",
    "print(df)"
   ]
  },
  {
   "cell_type": "code",
   "execution_count": 15,
   "id": "d3b31381",
   "metadata": {},
   "outputs": [
    {
     "name": "stdout",
     "output_type": "stream",
     "text": [
      "   Id  Gender   Salary Country Company\n",
      "0   1    Male  15000.0   India  Google\n",
      "2   3  Female  25000.0   India  Google\n"
     ]
    }
   ],
   "source": [
    "#dropping rows in a csv file that include at least one null value:\n",
    "new_df=df.dropna(axis=0,how='any')\n",
    "print(new_df)"
   ]
  },
  {
   "cell_type": "code",
   "execution_count": 16,
   "id": "4e68e7b4",
   "metadata": {},
   "outputs": [
    {
     "name": "stdout",
     "output_type": "stream",
     "text": [
      "fill missing data\n",
      "    Id  Gender   Salary Country Company\n",
      "0   1    Male  15000.0   India  Google\n",
      "2   3  Female  25000.0   India  Google\n"
     ]
    }
   ],
   "source": [
    "#fillna()\n",
    "print('fill missing data\\n',df.fillna(0))"
   ]
  },
  {
   "cell_type": "code",
   "execution_count": 20,
   "id": "b7899e25",
   "metadata": {},
   "outputs": [
    {
     "name": "stdout",
     "output_type": "stream",
     "text": [
      "fill missing data\n",
      "    Id  Gender   Salary Country Company\n",
      "0   1    Male  15000.0   India  Google\n",
      "2   3  Female  25000.0   India  Google\n"
     ]
    }
   ],
   "source": [
    "print('fill missing data\\n',df.fillna(method='pad'))"
   ]
  },
  {
   "cell_type": "code",
   "execution_count": 21,
   "id": "aebfb8fc",
   "metadata": {},
   "outputs": [
    {
     "name": "stdout",
     "output_type": "stream",
     "text": [
      "fill missing data\n",
      "    Id  Gender   Salary Country Company\n",
      "0   1    Male  15000.0   India  Google\n",
      "2   3  Female  25000.0   India  Google\n"
     ]
    }
   ],
   "source": [
    "print('fill missing data\\n',df.fillna(method='bfill'))"
   ]
  },
  {
   "cell_type": "code",
   "execution_count": 23,
   "id": "7ce0d487",
   "metadata": {},
   "outputs": [
    {
     "name": "stdout",
     "output_type": "stream",
     "text": [
      "fill missing data\n",
      " None\n"
     ]
    }
   ],
   "source": [
    "print('fill missing data\\n',df[\"Gender\"].fillna(\"no Gender\",inplace=True))"
   ]
  },
  {
   "cell_type": "code",
   "execution_count": 24,
   "id": "190d407e",
   "metadata": {},
   "outputs": [
    {
     "name": "stdout",
     "output_type": "stream",
     "text": [
      "   Id  Gender   Salary Country    Company\n",
      "0   1    Male  15000.0   India  microsoft\n",
      "2   3  Female  25000.0   India  microsoft\n"
     ]
    }
   ],
   "source": [
    "#replace\n",
    "print(df.replace(to_replace='Google',value='microsoft'))"
   ]
  },
  {
   "cell_type": "code",
   "execution_count": 25,
   "id": "32365ff2",
   "metadata": {},
   "outputs": [
    {
     "name": "stdout",
     "output_type": "stream",
     "text": [
      "   Id  Gender   Salary Country Company\n",
      "0   1    Male  15000.0   India  Google\n",
      "2   3  Female  25000.0   India  Google\n"
     ]
    }
   ],
   "source": [
    "#interpolate()\n",
    "print(df.interpolate(method='linear',limit_direction='forward'))"
   ]
  },
  {
   "cell_type": "code",
   "execution_count": null,
   "id": "47781561",
   "metadata": {},
   "outputs": [],
   "source": []
  }
 ],
 "metadata": {
  "kernelspec": {
   "display_name": "Python 3 (ipykernel)",
   "language": "python",
   "name": "python3"
  },
  "language_info": {
   "codemirror_mode": {
    "name": "ipython",
    "version": 3
   },
   "file_extension": ".py",
   "mimetype": "text/x-python",
   "name": "python",
   "nbconvert_exporter": "python",
   "pygments_lexer": "ipython3",
   "version": "3.9.7"
  }
 },
 "nbformat": 4,
 "nbformat_minor": 5
}
