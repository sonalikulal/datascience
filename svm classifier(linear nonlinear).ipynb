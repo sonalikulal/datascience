{
 "cells": [
  {
   "cell_type": "code",
   "execution_count": 1,
   "id": "80ab2e6e",
   "metadata": {},
   "outputs": [
    {
     "name": "stdout",
     "output_type": "stream",
     "text": [
      "    fruit_label fruit_name     fruit_subtype  mass  width  height  color_score\n",
      "0             1      apple      granny_smith   192    8.4     7.3         0.55\n",
      "1             1      apple      granny_smith   180    8.0     6.8         0.59\n",
      "2             1      apple      granny_smith   176    7.4     7.2         0.60\n",
      "3             2   mandarin          mandarin    86    6.2     4.7         0.80\n",
      "4             2   mandarin          mandarin    84    6.0     4.6         0.79\n",
      "5             2   mandarin          mandarin    80    5.8     4.3         0.77\n",
      "6             2   mandarin          mandarin    80    5.9     4.3         0.81\n",
      "7             2   mandarin          mandarin    76    5.8     4.0         0.81\n",
      "8             1      apple          braeburn   178    7.1     7.8         0.92\n",
      "9             1      apple          braeburn   172    7.4     7.0         0.89\n",
      "10            1      apple          braeburn   166    6.9     7.3         0.93\n",
      "11            1      apple          braeburn   172    7.1     7.6         0.92\n",
      "12            1      apple          braeburn   154    7.0     7.1         0.88\n",
      "13            1      apple  golden_delicious   164    7.3     7.7         0.70\n",
      "14            1      apple  golden_delicious   152    7.6     7.3         0.69\n",
      "15            1      apple  golden_delicious   156    7.7     7.1         0.69\n",
      "16            1      apple  golden_delicious   156    7.6     7.5         0.67\n",
      "17            1      apple  golden_delicious   168    7.5     7.6         0.73\n",
      "18            1      apple       cripps_pink   162    7.5     7.1         0.83\n",
      "19            1      apple       cripps_pink   162    7.4     7.2         0.85\n",
      "20            1      apple       cripps_pink   160    7.5     7.5         0.86\n",
      "21            1      apple       cripps_pink   156    7.4     7.4         0.84\n",
      "22            1      apple       cripps_pink   140    7.3     7.1         0.87\n",
      "23            1      apple       cripps_pink   170    7.6     7.9         0.88\n",
      "24            3     orange     spanish_jumbo   342    9.0     9.4         0.75\n",
      "25            3     orange     spanish_jumbo   356    9.2     9.2         0.75\n",
      "26            3     orange     spanish_jumbo   362    9.6     9.2         0.74\n",
      "27            3     orange  selected_seconds   204    7.5     9.2         0.77\n",
      "28            3     orange  selected_seconds   140    6.7     7.1         0.72\n",
      "29            3     orange  selected_seconds   160    7.0     7.4         0.81\n",
      "30            3     orange  selected_seconds   158    7.1     7.5         0.79\n",
      "31            3     orange  selected_seconds   210    7.8     8.0         0.82\n",
      "32            3     orange  selected_seconds   164    7.2     7.0         0.80\n",
      "33            3     orange      turkey_navel   190    7.5     8.1         0.74\n",
      "34            3     orange      turkey_navel   142    7.6     7.8         0.75\n",
      "35            3     orange      turkey_navel   150    7.1     7.9         0.75\n",
      "36            3     orange      turkey_navel   160    7.1     7.6         0.76\n",
      "37            3     orange      turkey_navel   154    7.3     7.3         0.79\n",
      "38            3     orange      turkey_navel   158    7.2     7.8         0.77\n",
      "39            3     orange      turkey_navel   144    6.8     7.4         0.75\n",
      "40            3     orange      turkey_navel   154    7.1     7.5         0.78\n",
      "41            3     orange      turkey_navel   180    7.6     8.2         0.79\n",
      "42            3     orange      turkey_navel   154    7.2     7.2         0.82\n",
      "43            4      lemon    spanish_belsan   194    7.2    10.3         0.70\n",
      "44            4      lemon    spanish_belsan   200    7.3    10.5         0.72\n",
      "45            4      lemon    spanish_belsan   186    7.2     9.2         0.72\n",
      "46            4      lemon    spanish_belsan   216    7.3    10.2         0.71\n",
      "47            4      lemon    spanish_belsan   196    7.3     9.7         0.72\n",
      "48            4      lemon    spanish_belsan   174    7.3    10.1         0.72\n",
      "49            4      lemon           unknown   132    5.8     8.7         0.73\n",
      "50            4      lemon           unknown   130    6.0     8.2         0.71\n",
      "51            4      lemon           unknown   116    6.0     7.5         0.72\n",
      "52            4      lemon           unknown   118    5.9     8.0         0.72\n",
      "53            4      lemon           unknown   120    6.0     8.4         0.74\n",
      "54            4      lemon           unknown   116    6.1     8.5         0.71\n",
      "55            4      lemon           unknown   116    6.3     7.7         0.72\n",
      "56            4      lemon           unknown   116    5.9     8.1         0.73\n",
      "57            4      lemon           unknown   152    6.5     8.5         0.72\n",
      "58            4      lemon           unknown   118    6.1     8.1         0.70\n"
     ]
    }
   ],
   "source": [
    "%matplotlib inline\n",
    "import pandas as pd\n",
    "import matplotlib.pyplot as plt\n",
    "fruits = pd.read_table('fruit_data_with_colors.txt')\n",
    "print(fruits)"
   ]
  },
  {
   "cell_type": "code",
   "execution_count": 2,
   "id": "99544545",
   "metadata": {},
   "outputs": [
    {
     "name": "stdout",
     "output_type": "stream",
     "text": [
      "(59, 7)\n"
     ]
    }
   ],
   "source": [
    "print(fruits.shape)"
   ]
  },
  {
   "cell_type": "code",
   "execution_count": 3,
   "id": "fc4b6860",
   "metadata": {},
   "outputs": [
    {
     "name": "stdout",
     "output_type": "stream",
     "text": [
      "['apple' 'mandarin' 'orange' 'lemon']\n"
     ]
    }
   ],
   "source": [
    "print(fruits['fruit_name'].unique())"
   ]
  },
  {
   "cell_type": "code",
   "execution_count": 4,
   "id": "931e27e8",
   "metadata": {},
   "outputs": [
    {
     "name": "stdout",
     "output_type": "stream",
     "text": [
      "fruit_name\n",
      "apple       19\n",
      "lemon       16\n",
      "mandarin     5\n",
      "orange      19\n",
      "dtype: int64\n"
     ]
    }
   ],
   "source": [
    "print(fruits.groupby('fruit_name').size())"
   ]
  },
  {
   "cell_type": "code",
   "execution_count": 5,
   "id": "a2c621d4",
   "metadata": {},
   "outputs": [
    {
     "name": "stderr",
     "output_type": "stream",
     "text": [
      "C:\\ProgramData\\Anaconda3\\lib\\site-packages\\seaborn\\_decorators.py:36: FutureWarning: Pass the following variable as a keyword arg: x. From version 0.12, the only valid positional argument will be `data`, and passing other arguments without an explicit keyword will result in an error or misinterpretation.\n",
      "  warnings.warn(\n"
     ]
    },
    {
     "data": {
      "image/png": "[encoded data removed]",
      "text/plain": [
       "<Figure size 432x288 with 1 Axes>"
      ]
     },
     "metadata": {
      "needs_background": "light"
     },
     "output_type": "display_data"
    }
   ],
   "source": [
    "import seaborn as sns\n",
    "sns.countplot(fruits['fruit_name'],label=\"Count\")\n",
    "plt.show()"
   ]
  },
  {
   "cell_type": "code",
   "execution_count": 6,
   "id": "596e4d7f",
   "metadata": {},
   "outputs": [],
   "source": [
    "import pandas as pd\n",
    "\n",
    "fruits = pd.read_table('fruit_data_with_colors.txt')\n",
    "feature_names = ['mass', 'width', 'height', 'color_score']\n",
    "X = fruits[feature_names]\n",
    "y = fruits['fruit_label']                               # y only label\n",
    "\n",
    "from sklearn.model_selection import train_test_split\n",
    "X_train, X_test, y_train, y_test = train_test_split(X, y, random_state=0)\n",
    "from sklearn.preprocessing import MinMaxScaler\n",
    "scaler = MinMaxScaler()\n",
    "X_train = scaler.fit_transform(X_train)\n",
    "X_test = scaler.transform(X_test)"
   ]
  },
  {
   "cell_type": "code",
   "execution_count": 7,
   "id": "235f37a7",
   "metadata": {},
   "outputs": [
    {
     "name": "stdout",
     "output_type": "stream",
     "text": [
      "Accuracy of SVM classifier on training set: 0.91\n",
      "Accuracy of SVM classifier on test set: 0.80\n"
     ]
    }
   ],
   "source": [
    "#Support Vector Machine\n",
    "from sklearn.svm import SVC\n",
    "svm = SVC()\n",
    "svm.fit(X_train, y_train) # building model\n",
    "print('Accuracy of SVM classifier on training set: {:.2f}'\n",
    "     .format(svm.score(X_train, y_train)))\n",
    "print('Accuracy of SVM classifier on test set: {:.2f}'\n",
    "     .format(svm.score(X_test, y_test)))"
   ]
  },
  {
   "cell_type": "code",
   "execution_count": 8,
   "id": "9023648c",
   "metadata": {},
   "outputs": [],
   "source": [
    "#classification report\n",
    "y_pred=svm.predict(X_test)"
   ]
  },
  {
   "cell_type": "code",
   "execution_count": 9,
   "id": "229bc95b",
   "metadata": {},
   "outputs": [],
   "source": [
    "from sklearn.metrics import classification_report"
   ]
  },
  {
   "cell_type": "code",
   "execution_count": 10,
   "id": "098fb544",
   "metadata": {},
   "outputs": [
    {
     "name": "stdout",
     "output_type": "stream",
     "text": [
      "              precision    recall  f1-score   support\n",
      "\n",
      "           1       0.67      1.00      0.80         4\n",
      "           2       1.00      1.00      1.00         1\n",
      "           3       1.00      0.62      0.77         8\n",
      "           4       0.67      1.00      0.80         2\n",
      "\n",
      "    accuracy                           0.80        15\n",
      "   macro avg       0.83      0.91      0.84        15\n",
      "weighted avg       0.87      0.80      0.80        15\n",
      "\n"
     ]
    }
   ],
   "source": [
    "print(classification_report(y_test,y_pred))"
   ]
  },
  {
   "cell_type": "code",
   "execution_count": 11,
   "id": "b4a3bd9c",
   "metadata": {},
   "outputs": [
    {
     "name": "stdout",
     "output_type": "stream",
     "text": [
      "Accuracy of SVM classifier on training set: 0.61\n",
      "Accuracy of SVM classifier on test set: 0.33\n"
     ]
    }
   ],
   "source": [
    "# nonlinear svm \n",
    "#Support Vector Machine\n",
    "from sklearn.svm import SVC\n",
    "svm = SVC(gamma='auto')\n",
    "svm.fit(X_train, y_train) # building model\n",
    "print('Accuracy of SVM classifier on training set: {:.2f}'\n",
    "     .format(svm.score(X_train, y_train)))\n",
    "print('Accuracy of SVM classifier on test set: {:.2f}'\n",
    "     .format(svm.score(X_test, y_test)))"
   ]
  },
  {
   "cell_type": "code",
   "execution_count": 12,
   "id": "05a2973a",
   "metadata": {},
   "outputs": [],
   "source": [
    "#classification report\n",
    "x_pred=svm.predict(X_test)"
   ]
  },
  {
   "cell_type": "code",
   "execution_count": 13,
   "id": "837ce36a",
   "metadata": {},
   "outputs": [],
   "source": [
    "from sklearn.metrics import classification_report"
   ]
  },
  {
   "cell_type": "code",
   "execution_count": 14,
   "id": "d2a3b638",
   "metadata": {},
   "outputs": [
    {
     "name": "stdout",
     "output_type": "stream",
     "text": [
      "              precision    recall  f1-score   support\n",
      "\n",
      "           1       0.29      1.00      0.44         4\n",
      "           2       0.00      0.00      0.00         1\n",
      "           3       0.00      0.00      0.00         8\n",
      "           4       1.00      0.50      0.67         2\n",
      "\n",
      "    accuracy                           0.33        15\n",
      "   macro avg       0.32      0.38      0.28        15\n",
      "weighted avg       0.21      0.33      0.21        15\n",
      "\n"
     ]
    },
    {
     "name": "stderr",
     "output_type": "stream",
     "text": [
      "C:\\ProgramData\\Anaconda3\\lib\\site-packages\\sklearn\\metrics\\_classification.py:1248: UndefinedMetricWarning: Precision and F-score are ill-defined and being set to 0.0 in labels with no predicted samples. Use `zero_division` parameter to control this behavior.\n",
      "  _warn_prf(average, modifier, msg_start, len(result))\n",
      "C:\\ProgramData\\Anaconda3\\lib\\site-packages\\sklearn\\metrics\\_classification.py:1248: UndefinedMetricWarning: Precision and F-score are ill-defined and being set to 0.0 in labels with no predicted samples. Use `zero_division` parameter to control this behavior.\n",
      "  _warn_prf(average, modifier, msg_start, len(result))\n",
      "C:\\ProgramData\\Anaconda3\\lib\\site-packages\\sklearn\\metrics\\_classification.py:1248: UndefinedMetricWarning: Precision and F-score are ill-defined and being set to 0.0 in labels with no predicted samples. Use `zero_division` parameter to control this behavior.\n",
      "  _warn_prf(average, modifier, msg_start, len(result))\n"
     ]
    }
   ],
   "source": [
    "print(classification_report(y_test,x_pred))"
   ]
  }
 ],
 "metadata": {
  "kernelspec": {
   "display_name": "Python 3 (ipykernel)",
   "language": "python",
   "name": "python3"
  },
  "language_info": {
   "codemirror_mode": {
    "name": "ipython",
    "version": 3
   },
   "file_extension": ".py",
   "mimetype": "text/x-python",
   "name": "python",
   "nbconvert_exporter": "python",
   "pygments_lexer": "ipython3",
   "version": "3.9.7"
  }
 },
 "nbformat": 4,
 "nbformat_minor": 5
}
