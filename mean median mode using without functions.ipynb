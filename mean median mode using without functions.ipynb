{
 "cells": [
  {
   "cell_type": "code",
   "execution_count": 1,
   "id": "b7aa7923",
   "metadata": {},
   "outputs": [
    {
     "name": "stdout",
     "output_type": "stream",
     "text": [
      "The mean or average of all these numbers ( [2, 3, 5, 7, 8] ) is 5.0\n"
     ]
    }
   ],
   "source": [
    "#Mean:\n",
    "\n",
    "numb = [2, 3, 5, 7, 8]\n",
    "no = len(numb)\n",
    "summ = sum(numb)\n",
    "mean = summ / no\n",
    "print(\"The mean or average of all these numbers (\", numb, \") is\", str(mean))"
   ]
  },
  {
   "cell_type": "code",
   "execution_count": 10,
   "id": "dafd16b1",
   "metadata": {},
   "outputs": [
    {
     "name": "stdout",
     "output_type": "stream",
     "text": [
      "Median is: 3.5\n"
     ]
    }
   ],
   "source": [
    "# Python program to print\n",
    "# median of elements\n",
    "\n",
    "# list of elements to calculate median\n",
    "n_num = [5, 6, 3, 4, 1,2]\n",
    "n = len(n_num)\n",
    "n_num.sort()\n",
    "\n",
    "if n % 2 == 0:\n",
    "\tmedian1 = n_num[n//2]\n",
    "\tmedian2 = n_num[n//2 - 1]\n",
    "\tmedian = (median1 + median2)/2\n",
    "else:\n",
    "\tmedian = n_num[n//2]\n",
    "print(\"Median is: \" + str(median))\n"
   ]
  },
  {
   "cell_type": "code",
   "execution_count": 3,
   "id": "ee649bfa",
   "metadata": {},
   "outputs": [
    {
     "name": "stdout",
     "output_type": "stream",
     "text": [
      "Mode is / are: 5\n"
     ]
    }
   ],
   "source": [
    "# Python program to print\n",
    "# mode of elements\n",
    "from collections import Counter\n",
    "\n",
    "# list of elements to calculate mode\n",
    "n_num = [1, 2, 3, 4, 5, 5]\n",
    "n = len(n_num)\n",
    "\n",
    "data = Counter(n_num)\n",
    "get_mode = dict(data)\n",
    "mode = [k for k, v in get_mode.items() if v == max(list(data.values()))]\n",
    "\n",
    "if len(mode) == n:\n",
    "\tget_mode = \"No mode found\"\n",
    "else:\n",
    "\tget_mode = \"Mode is / are: \" + ', '.join(map(str, mode))\n",
    "\t\n",
    "print(get_mode)\n"
   ]
  },
  {
   "cell_type": "code",
   "execution_count": 8,
   "id": "a9fc5255",
   "metadata": {},
   "outputs": [
    {
     "data": {
      "text/plain": [
       "(1, 5, 4)"
      ]
     },
     "execution_count": 8,
     "metadata": {},
     "output_type": "execute_result"
    }
   ],
   "source": [
    "#Rnge\n",
    "numbers = [1,2,3,4,5]\n",
    "def find_range(list_of_numbers):\n",
    "    n_min = min(list_of_numbers)\n",
    "    n_max = max(list_of_numbers)\n",
    "    n_range = n_max - n_min\n",
    "    return n_min, n_max, n_range\n",
    "find_range(numbers)\n"
   ]
  },
  {
   "cell_type": "code",
   "execution_count": 5,
   "id": "f46c5f9e",
   "metadata": {},
   "outputs": [
    {
     "name": "stdout",
     "output_type": "stream",
     "text": [
      "the original list:[4, 5, 8, 9, 10]\n",
      "VARIANCE of sample is:5.36\n"
     ]
    }
   ],
   "source": [
    "test_list=[4,5,8,9,10]\n",
    "print(\"the original list:\"+str(test_list))\n",
    "mean=sum(test_list)/len(test_list)\n",
    "variance=sum([((x-mean)** 2)for x in test_list])/ len(test_list)\n",
    "print(\"VARIANCE of sample is:\" +str(variance))\n"
   ]
  },
  {
   "cell_type": "code",
   "execution_count": 6,
   "id": "447bee9c",
   "metadata": {},
   "outputs": [
    {
     "name": "stdout",
     "output_type": "stream",
     "text": [
      "standard deviation of sample is :2.3151673805580453\n"
     ]
    }
   ],
   "source": [
    "res=variance ** 0.5\n",
    "print(\"standard deviation of sample is :\"+ str(res))"
   ]
  },
  {
   "cell_type": "code",
   "execution_count": null,
   "id": "6a39f927",
   "metadata": {},
   "outputs": [],
   "source": []
  }
 ],
 "metadata": {
  "kernelspec": {
   "display_name": "Python 3 (ipykernel)",
   "language": "python",
   "name": "python3"
  },
  "language_info": {
   "codemirror_mode": {
    "name": "ipython",
    "version": 3
   },
   "file_extension": ".py",
   "mimetype": "text/x-python",
   "name": "python",
   "nbconvert_exporter": "python",
   "pygments_lexer": "ipython3",
   "version": "3.9.7"
  }
 },
 "nbformat": 4,
 "nbformat_minor": 5
}
