{
 "cells": [
  {
   "cell_type": "code",
   "execution_count": 96,
   "id": "bc70f305",
   "metadata": {},
   "outputs": [
    {
     "name": "stdout",
     "output_type": "stream",
     "text": [
      "Enter the No of Values : 15\n"
     ]
    }
   ],
   "source": [
    "#sigma=population standard deviation\n",
    "#mu=population mean\n",
    "\n",
    "import numpy as np\n",
    "import math\n",
    "n=int(input(\"Enter the No of Values : \"))\n",
    "mylist=[]\n",
    "variance=0\n",
    "summ=0"
   ]
  },
  {
   "cell_type": "code",
   "execution_count": 97,
   "id": "4bfd9ff7",
   "metadata": {},
   "outputs": [
    {
     "name": "stdout",
     "output_type": "stream",
     "text": [
      "Enter the Value : 19\n",
      "Enter the Value : 12\n",
      "Enter the Value : 16\n",
      "Enter the Value : 0\n",
      "Enter the Value : 14\n",
      "Enter the Value : 9\n",
      "Enter the Value : 6\n",
      "Enter the Value : 1\n",
      "Enter the Value : 12\n",
      "Enter the Value : 13\n",
      "Enter the Value : 10\n",
      "Enter the Value : 19\n",
      "Enter the Value : 7\n",
      "Enter the Value : 5\n",
      "Enter the Value : 8\n"
     ]
    }
   ],
   "source": [
    "for i in range(n):\n",
    "    ele=int(input(\"Enter the Value : \"))\n",
    "    mylist.append(ele)\n",
    "    summ=summ+ele"
   ]
  },
  {
   "cell_type": "code",
   "execution_count": 98,
   "id": "45f71a89",
   "metadata": {},
   "outputs": [
    {
     "data": {
      "text/plain": [
       "[0, 1, 5, 6, 7, 8, 9, 10, 12, 12, 13, 14, 16, 19, 19]"
      ]
     },
     "execution_count": 98,
     "metadata": {},
     "output_type": "execute_result"
    }
   ],
   "source": [
    "#sorting the data in mylist\n",
    "for i in range(n):\n",
    "    for j in range(0, n-i-1):\n",
    "        if mylist[j] > mylist[j+1]:\n",
    "            temp=mylist[j]\n",
    "            mylist[j]=mylist[j+1]\n",
    "            mylist[j+1]=temp\n",
    "mylist"
   ]
  },
  {
   "cell_type": "code",
   "execution_count": 99,
   "id": "4e9f473a",
   "metadata": {},
   "outputs": [
    {
     "name": "stdout",
     "output_type": "stream",
     "text": [
      "Maximum  value is :  19\n",
      "Minimum  value is :  0\n"
     ]
    }
   ],
   "source": [
    "\n",
    "maxx=np.max(mylist)\n",
    "print(\"Maximum  value is : \",maxx)\n",
    "minn=np.min(mylist)\n",
    "print(\"Minimum  value is : \",minn)"
   ]
  },
  {
   "cell_type": "markdown",
   "id": "7fd20dbf",
   "metadata": {},
   "source": [
    "#### "
   ]
  },
  {
   "cell_type": "code",
   "execution_count": 100,
   "id": "84e34e5c",
   "metadata": {},
   "outputs": [
    {
     "name": "stdout",
     "output_type": "stream",
     "text": [
      "The Range is :  19\n"
     ]
    }
   ],
   "source": [
    "#Range\n",
    "\n",
    "rangee=maxx-minn\n",
    "print(\"The Range is : \",rangee)"
   ]
  },
  {
   "cell_type": "code",
   "execution_count": 101,
   "id": "ef46cf2c",
   "metadata": {},
   "outputs": [
    {
     "name": "stdout",
     "output_type": "stream",
     "text": [
      "Mean is :  10.066666666666666\n"
     ]
    }
   ],
   "source": [
    "#Mean\n",
    "\n",
    "mean=summ/n\n",
    "print(\"Mean is : \",mean)"
   ]
  },
  {
   "cell_type": "code",
   "execution_count": 102,
   "id": "bbe7b0e9",
   "metadata": {},
   "outputs": [
    {
     "name": "stdout",
     "output_type": "stream",
     "text": [
      "Variance is :  31.128888888888888\n"
     ]
    }
   ],
   "source": [
    "#variance\n",
    "\n",
    "for i in range(0,n):\n",
    "    variance=variance+(pow((mylist[i]-mean),2))/n\n",
    "print(\"Variance is : \",variance)"
   ]
  },
  {
   "cell_type": "code",
   "execution_count": 103,
   "id": "13328d00",
   "metadata": {},
   "outputs": [
    {
     "name": "stdout",
     "output_type": "stream",
     "text": [
      "Standard Deviation is :  5.57932692077538\n"
     ]
    }
   ],
   "source": [
    "#standard deviation\n",
    "\n",
    "sd=math.sqrt(variance)\n",
    "\n",
    "print(\"Standard Deviation is : \",sd)"
   ]
  },
  {
   "cell_type": "code",
   "execution_count": 104,
   "id": "1196dcd6",
   "metadata": {},
   "outputs": [
    {
     "name": "stdout",
     "output_type": "stream",
     "text": [
      "Coefficient of Range :  1.0\n"
     ]
    }
   ],
   "source": [
    "#coefficient of range\n",
    "\n",
    "CoE=(maxx-minn)/(maxx+minn)\n",
    "print(\"Coefficient of Range : \",CoE)"
   ]
  },
  {
   "cell_type": "code",
   "execution_count": 105,
   "id": "f86b2140",
   "metadata": {},
   "outputs": [
    {
     "name": "stdout",
     "output_type": "stream",
     "text": [
      "Coefficient of Variation :  0.5542377735869584\n"
     ]
    }
   ],
   "source": [
    "#Coefficient of Variation\n",
    "\n",
    "CoV=sd/mean\n",
    "print(\"Coefficient of Variation : \",CoV)"
   ]
  },
  {
   "cell_type": "code",
   "execution_count": 106,
   "id": "bd2070db",
   "metadata": {},
   "outputs": [
    {
     "name": "stdout",
     "output_type": "stream",
     "text": [
      "Quartile Q1 is :  4.0\n",
      "Quartile Q3 is :  12.0\n",
      "Inter Quartile Range is :  8.0\n",
      "Qurtile value at q1 is  6.0\n",
      "Qurtile value at q3 is  14.0\n"
     ]
    }
   ],
   "source": [
    "n=len(mylist)\n",
    "\n",
    "#Quartile Formula Q1\n",
    "\n",
    "q1=(n+1)/4\n",
    "\n",
    "#Quartile Formula Q1\n",
    "\n",
    "q3=3*(n+1)/4\n",
    "\n",
    "#InterQuartile Range IQR\n",
    "\n",
    "iqr=q3-q1\n",
    "\n",
    "#divmod function seperates integer and decimal\n",
    "\n",
    "i,d=divmod(q1,1)\n",
    "\n",
    "q1value=mylist[int(i-1)]+d*(mylist[int(i)]-mylist[int(i-1)])\n",
    "\n",
    "j,d=divmod(q3,1)\n",
    "\n",
    "q2value=mylist[int(j-1)]+d*(mylist[int(j)]-mylist[int(j-1)])\n",
    "\n",
    "print(\"Quartile Q1 is : \",q1)\n",
    "print(\"Quartile Q3 is : \",q3)\n",
    "print(\"Inter Quartile Range is : \",iqr)\n",
    "print(\"Qurtile value at q1 is \",q1value)\n",
    "print(\"Qurtile value at q3 is \",q2value)"
   ]
  },
  {
   "cell_type": "code",
   "execution_count": 116,
   "id": "361891c4",
   "metadata": {},
   "outputs": [
    {
     "name": "stdout",
     "output_type": "stream",
     "text": [
      "Enter the value of Percentile5\n",
      "The Percentile Value is  3.799999999999999\n"
     ]
    }
   ],
   "source": [
    "#percentile for ungrouped data\n",
    "p=int(input(\"Enter the value of Percentile\"))\n",
    "p=p/100\n",
    "percentile=p*(n+1)\n",
    "#divmod function seperates integer and decimal\n",
    "i,d=divmod(percentile,1)\n",
    "pvalue=mylist[int(i-1)]+d*(mylist[int(i)]-mylist[int(i-1)])\n",
    "print(\"The Percentile Value is \",pvalue)"
   ]
  },
  {
   "cell_type": "code",
   "execution_count": 117,
   "id": "b01f2b5a",
   "metadata": {},
   "outputs": [
    {
     "name": "stdout",
     "output_type": "stream",
     "text": [
      "Enter the value of the decile b/w 1 and 10: 3\n",
      "the Decile Value is  6.8\n"
     ]
    }
   ],
   "source": [
    "#decile for ungrouped data\n",
    "de=input(\"Enter the value of the decile b/w 1 and 10: \")\n",
    "decile=((n+1)*int(de))/10\n",
    "#divmod function seperates integer and decimal\n",
    "i,d=divmod(decile,1)\n",
    "decilevalue=pvalue=mylist[int(i-1)]+d*(mylist[int(i)]-mylist[int(i-1)])\n",
    "print(\"the Decile Value is \",decilevalue)"
   ]
  },
  {
   "cell_type": "code",
   "execution_count": null,
   "id": "1d5a822f",
   "metadata": {},
   "outputs": [],
   "source": []
  }
 ],
 "metadata": {
  "kernelspec": {
   "display_name": "Python 3 (ipykernel)",
   "language": "python",
   "name": "python3"
  },
  "language_info": {
   "codemirror_mode": {
    "name": "ipython",
    "version": 3
   },
   "file_extension": ".py",
   "mimetype": "text/x-python",
   "name": "python",
   "nbconvert_exporter": "python",
   "pygments_lexer": "ipython3",
   "version": "3.9.7"
  }
 },
 "nbformat": 4,
 "nbformat_minor": 5
}
