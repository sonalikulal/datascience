{
 "cells": [
  {
   "cell_type": "code",
   "execution_count": 1,
   "id": "cef8f413",
   "metadata": {},
   "outputs": [
    {
     "name": "stdout",
     "output_type": "stream",
     "text": [
      "the average of list values is:2\n"
     ]
    }
   ],
   "source": [
    "import statistics\n",
    "#initializing list\n",
    "li=[1,2,3,3,2,2,2,1]\n",
    "print(\"the average of list values is:\",end=\"\")\n",
    "print(statistics.mean(li))"
   ]
  },
  {
   "cell_type": "code",
   "execution_count": 2,
   "id": "d5d7e6e7",
   "metadata": {},
   "outputs": [
    {
     "name": "stdout",
     "output_type": "stream",
     "text": [
      "Median of data-set 1 is 5\n",
      "Median of data-set 2 is 5.9\n",
      "Median of data-set 3 is 2\n",
      "Median of data-set 4 is -5\n",
      "Median of data-set 5 is 0.0\n"
     ]
    }
   ],
   "source": [
    "from statistics import median\n",
    "from fractions import Fraction as fr\n",
    "data1=(2,3,4,5,7,9,11)\n",
    "data2=(2.4,5.1,6.7,8.9)\n",
    "data3=(fr(1,2),fr(44,12),fr(10,3),fr(2,3))\n",
    "data4=(-5,-1,-12,-19,-3)\n",
    "data5=(-1,-2,-3,-4,4,3,2,1)\n",
    "print(\"Median of data-set 1 is % s\"%(median(data1)))\n",
    "print(\"Median of data-set 2 is % s\"%(median(data2)))\n",
    "print(\"Median of data-set 3 is % s\"%(median(data3)))\n",
    "print(\"Median of data-set 4 is % s\"%(median(data4)))\n",
    "print(\"Median of data-set 5 is % s\"%(median(data5)))"
   ]
  },
  {
   "cell_type": "code",
   "execution_count": 4,
   "id": "9940829a",
   "metadata": {},
   "outputs": [
    {
     "name": "stdout",
     "output_type": "stream",
     "text": [
      "mode of data-set 1 is 5\n",
      "mode of data-set 2 is 1.3\n",
      "mode of data-set 3 is 1/2\n",
      "mode of data-set 4 is -2\n",
      "mode of data-set 5 is black\n"
     ]
    }
   ],
   "source": [
    "from statistics import mode\n",
    "from fractions import Fraction as fr\n",
    "data1=(2,3,3,4,5,5,5,5,6,6,67)\n",
    "data2=(2.4,1.3,1.3,1.3,2.4,4.6)\n",
    "data3=(fr(1,2),fr(1,2),fr(10,3),fr(2,3))\n",
    "data4=(-1,-2,-2,-2,-7,-7,-9)\n",
    "data5=(\"red\",\"blue\",\"black\",\"blue\",\"black\",\"black\",\"brown\")\n",
    "print(\"mode of data-set 1 is % s\"%(mode(data1)))\n",
    "print(\"mode of data-set 2 is % s\"%(mode(data2)))\n",
    "print(\"mode of data-set 3 is % s\"%(mode(data3)))\n",
    "print(\"mode of data-set 4 is % s\"%(mode(data4)))\n",
    "print(\"mode of data-set 5 is % s\"%(mode(data5)))"
   ]
  },
  {
   "cell_type": "code",
   "execution_count": 5,
   "id": "3982c22c",
   "metadata": {},
   "outputs": [
    {
     "name": "stdout",
     "output_type": "stream",
     "text": [
      "Maximum=5,Minimum=1 and Range=4\n"
     ]
    }
   ],
   "source": [
    "arr=[1,2,3,4,5]\n",
    "Maximum=max(arr)\n",
    "Minimum=min(arr)\n",
    "Range=Maximum-Minimum\n",
    "print(\"Maximum={},Minimum={} and Range={}\".format(Maximum,Minimum,Range))"
   ]
  },
  {
   "cell_type": "code",
   "execution_count": 7,
   "id": "7d081b1c",
   "metadata": {},
   "outputs": [
    {
     "name": "stdout",
     "output_type": "stream",
     "text": [
      "Variance of Sample1 is 15.80952380952381 \n",
      "Variance of Sample2 is 3.5 \n",
      "Variance of Sample3 is 73.23809523809523 \n",
      "Variance of Sample4 is 1/45 \n",
      "Variance of Sample5 is 0.17613000000000006 \n"
     ]
    }
   ],
   "source": [
    "#variance\n",
    "from statistics import variance\n",
    "from fractions import Fraction as fr\n",
    "sample1=(1,2,5,4,8,9,12)\n",
    "sample2=(-2,-4,-3,-1,-5,-6)\n",
    "sample3=(-9-1,-0,2,1,3,4,19)\n",
    "sample4 = (fr(1, 2), fr(2, 3), fr(3, 4),\n",
    "fr(5, 6), fr(7, 8))\n",
    "sample5 = (1.23, 1.45, 2.1, 2.2, 1.9)\n",
    "# Print the variance of each samples\n",
    "print(\"Variance of Sample1 is % s \" % (variance(sample1)))\n",
    "print(\"Variance of Sample2 is % s \" % (variance(sample2)))\n",
    "print(\"Variance of Sample3 is % s \" % (variance(sample3)))\n",
    "print(\"Variance of Sample4 is % s \" % (variance(sample4)))\n",
    "print(\"Variance of Sample5 is % s \" % (variance(sample5)))\n"
   ]
  },
  {
   "cell_type": "code",
   "execution_count": 8,
   "id": "2528e57a",
   "metadata": {},
   "outputs": [
    {
     "name": "stdout",
     "output_type": "stream",
     "text": [
      "The Standard Deviation of Sample1 is 3.9761191895520196\n",
      "The Standard Deviation of Sample2 is 1.8708286933869707\n",
      "The Standard Deviation of Sample3 is 7.8182478855559445\n",
      "The Standard Deviation of Sample4 is 0.41967844833872525\n"
     ]
    }
   ],
   "source": [
    "from statistics import stdev\n",
    "from fractions import Fraction as fr\n",
    "sample1 = (1, 2, 5, 4, 8, 9, 12)\n",
    "sample2 = (-2, -4, -3, -1, -5, -6)\n",
    "sample3 = (-9, -1, -0, 2, 1, 3, 4, 19)\n",
    "sample4 = (1.23, 1.45, 2.1, 2.2, 1.9)\n",
    "print(\"The Standard Deviation of Sample1 is % s\"\n",
    "% (stdev(sample1)))\n",
    "print(\"The Standard Deviation of Sample2 is % s\"\n",
    "% (stdev(sample2)))\n",
    "print(\"The Standard Deviation of Sample3 is % s\"\n",
    "% (stdev(sample3)))\n",
    "print(\"The Standard Deviation of Sample4 is % s\"\n",
    "% (stdev(sample4)))"
   ]
  },
  {
   "cell_type": "code",
   "execution_count": 12,
   "id": "0cbf9266",
   "metadata": {},
   "outputs": [
    {
     "data": {
      "text/plain": [
       "DescribeResult(nobs=5, minmax=(1.23, 2.2), mean=1.7759999999999998, variance=0.17613000000000006, skewness=-0.4806761109981359, kurtosis=-2.2079587259232767)"
      ]
     },
     "execution_count": 12,
     "metadata": {},
     "output_type": "execute_result"
    }
   ],
   "source": [
    "import scipy \n",
    "from scipy import stats\n",
    "result = scipy.stats.describe(sample4, ddof=1, bias=False)\n",
    "result"
   ]
  },
  {
   "cell_type": "code",
   "execution_count": 7,
   "id": "c461bdc6",
   "metadata": {},
   "outputs": [],
   "source": [
    "import numpy as np\n",
    "x = list(range(-10, 11))\n",
    "y = [0, 2, 2, 2, 2, 3, 3, 6, 7, 4, 7, 6, 6, 9, 4, 5, 5, 10, 11, 12, 14]\n",
    "x_, y_ = np.array(x), np.array(y)\n",
    "x__, y__= pd.Series(x_), pd.Series(y_)\n"
   ]
  },
  {
   "cell_type": "code",
   "execution_count": 3,
   "id": "2ffce10b",
   "metadata": {},
   "outputs": [
    {
     "data": {
      "text/plain": [
       "19.95"
      ]
     },
     "execution_count": 3,
     "metadata": {},
     "output_type": "execute_result"
    }
   ],
   "source": [
    "n = len(x)\n",
    "mean_x, mean_y = sum(x) / n, sum(y) / n\n",
    "cov_xy = (sum((x[k] - mean_x) * (y[k] - mean_y) for k in range(n))\n",
    "/ (n - 1))\n",
    "cov_xy\n"
   ]
  },
  {
   "cell_type": "code",
   "execution_count": 6,
   "id": "4747cdab",
   "metadata": {},
   "outputs": [
    {
     "data": {
      "text/plain": [
       "array([[38.5       , 19.95      ],\n",
       "       [19.95      , 13.91428571]])"
      ]
     },
     "execution_count": 6,
     "metadata": {},
     "output_type": "execute_result"
    }
   ],
   "source": [
    "cov_matrix = np.cov(x_, y_)\n",
    "cov_matrix"
   ]
  },
  {
   "cell_type": "code",
   "execution_count": 9,
   "id": "6e1ff073",
   "metadata": {},
   "outputs": [],
   "source": [
    "import numpy as np\n",
    "import pandas as pd\n",
    "x = list(range(-10, 11))\n",
    "y = [0, 2, 2, 2, 2, 3, 3, 6, 7, 4, 7, 6, 6, 9, 4, 5, 5, 10, 11, 12, 14]\n",
    "x_, y_ = np.array(x), np.array(y)\n",
    "x__, y__= pd.Series(x_), pd.Series(y_)"
   ]
  },
  {
   "cell_type": "code",
   "execution_count": 10,
   "id": "fecd18ca",
   "metadata": {},
   "outputs": [
    {
     "data": {
      "text/plain": [
       "[-10, -9, -8, -7, -6, -5, -4, -3, -2, -1, 0, 1, 2, 3, 4, 5, 6, 7, 8, 9, 10]"
      ]
     },
     "execution_count": 10,
     "metadata": {},
     "output_type": "execute_result"
    }
   ],
   "source": [
    "x"
   ]
  },
  {
   "cell_type": "code",
   "execution_count": 11,
   "id": "15c1dabe",
   "metadata": {},
   "outputs": [
    {
     "data": {
      "text/plain": [
       "0    -10\n",
       "1     -9\n",
       "2     -8\n",
       "3     -7\n",
       "4     -6\n",
       "5     -5\n",
       "6     -4\n",
       "7     -3\n",
       "8     -2\n",
       "9     -1\n",
       "10     0\n",
       "11     1\n",
       "12     2\n",
       "13     3\n",
       "14     4\n",
       "15     5\n",
       "16     6\n",
       "17     7\n",
       "18     8\n",
       "19     9\n",
       "20    10\n",
       "dtype: int32"
      ]
     },
     "execution_count": 11,
     "metadata": {},
     "output_type": "execute_result"
    }
   ],
   "source": [
    "x__"
   ]
  },
  {
   "cell_type": "code",
   "execution_count": 12,
   "id": "fd7902de",
   "metadata": {},
   "outputs": [
    {
     "data": {
      "text/plain": [
       "array([-10,  -9,  -8,  -7,  -6,  -5,  -4,  -3,  -2,  -1,   0,   1,   2,\n",
       "         3,   4,   5,   6,   7,   8,   9,  10])"
      ]
     },
     "execution_count": 12,
     "metadata": {},
     "output_type": "execute_result"
    }
   ],
   "source": [
    "x_"
   ]
  },
  {
   "cell_type": "code",
   "execution_count": null,
   "id": "487ffe6c",
   "metadata": {},
   "outputs": [],
   "source": []
  }
 ],
 "metadata": {
  "kernelspec": {
   "display_name": "Python 3 (ipykernel)",
   "language": "python",
   "name": "python3"
  },
  "language_info": {
   "codemirror_mode": {
    "name": "ipython",
    "version": 3
   },
   "file_extension": ".py",
   "mimetype": "text/x-python",
   "name": "python",
   "nbconvert_exporter": "python",
   "pygments_lexer": "ipython3",
   "version": "3.9.7"
  }
 },
 "nbformat": 4,
 "nbformat_minor": 5
}
