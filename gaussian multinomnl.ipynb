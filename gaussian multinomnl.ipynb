{
 "cells": [
  {
   "cell_type": "code",
   "execution_count": 1,
   "id": "357057cd",
   "metadata": {},
   "outputs": [],
   "source": [
    "#Write a program to implement K- Nearest Neighbors’ classifier to find accuracy for training and test fruit data set.\n",
    "# importing libraries\n",
    "import numpy as nm\n",
    "import matplotlib.pyplot as mtp\n",
    "import pandas as pd"
   ]
  },
  {
   "cell_type": "code",
   "execution_count": 2,
   "id": "fdb8cf1a",
   "metadata": {},
   "outputs": [
    {
     "name": "stdout",
     "output_type": "stream",
     "text": [
      "      User ID  Gender  Age  EstimatedSalary  Purchased\n",
      "0    15624510    Male   19            19000          0\n",
      "1    15810944    Male   35            20000          0\n",
      "2    15668575  Female   26            43000          0\n",
      "3    15603246  Female   27            57000          0\n",
      "4    15804002    Male   19            76000          0\n",
      "..        ...     ...  ...              ...        ...\n",
      "395  15691863  Female   46            41000          1\n",
      "396  15706071    Male   51            23000          1\n",
      "397  15654296  Female   50            20000          1\n",
      "398  15755018    Male   36            33000          0\n",
      "399  15594041  Female   49            36000          1\n",
      "\n",
      "[400 rows x 5 columns]\n"
     ]
    }
   ],
   "source": [
    "#importing datasets  \n",
    "data_set=pd.read_csv('User_data.csv')\n",
    "print(data_set)"
   ]
  },
  {
   "cell_type": "code",
   "execution_count": 3,
   "id": "585a40bf",
   "metadata": {},
   "outputs": [],
   "source": [
    "#Extracting Independent and dependent Variable  \n",
    "x=data_set.iloc[:, [2,3]].values\n",
    "y=data_set.iloc[:, 4].values\n",
    "\n",
    "# Splitting the dataset into training and test set. \n",
    "from sklearn.model_selection import train_test_split\n",
    "x_train,x_test,y_train,y_test=train_test_split(x,y,test_size=0.25,random_state=0)"
   ]
  },
  {
   "cell_type": "code",
   "execution_count": 4,
   "id": "0e6043fa",
   "metadata": {},
   "outputs": [],
   "source": [
    "xtrain, xtest, ytrain, ytest= train_test_split(x,y,test_size=0.25,random_state=0)"
   ]
  },
  {
   "cell_type": "code",
   "execution_count": 5,
   "id": "71fb2105",
   "metadata": {},
   "outputs": [
    {
     "data": {
      "text/plain": [
       "MultinomialNB(alpha=True)"
      ]
     },
     "execution_count": 5,
     "metadata": {},
     "output_type": "execute_result"
    }
   ],
   "source": [
    "from sklearn.naive_bayes import MultinomialNB\n",
    "clf = MultinomialNB(alpha=True)\n",
    "clf.fit(xtrain, ytrain)"
   ]
  },
  {
   "cell_type": "code",
   "execution_count": 6,
   "id": "366b4bce",
   "metadata": {},
   "outputs": [
    {
     "data": {
      "text/plain": [
       "array([1, 0, 0, 0, 0, 0, 0, 1, 1, 0, 0, 0, 0, 0, 1, 1, 0, 1, 1, 0, 0, 1,\n",
       "       0, 0, 0, 1, 1, 0, 0, 1, 1, 0, 0, 0, 0, 0, 1, 0, 0, 0, 1, 0, 1, 0,\n",
       "       1, 0, 0, 0, 0, 0, 0, 0, 0, 1, 0, 0, 1, 1, 0, 0, 0, 0, 1, 1, 0, 0,\n",
       "       1, 0, 0, 0, 1, 0, 0, 0, 1, 1, 0, 0, 0, 0, 1, 0, 0, 0, 0, 0, 0, 0,\n",
       "       0, 0, 0, 1, 0, 0, 1, 1, 0, 0, 0, 0], dtype=int64)"
      ]
     },
     "execution_count": 6,
     "metadata": {},
     "output_type": "execute_result"
    }
   ],
   "source": [
    "predt = clf.predict(xtest)\n",
    "predt"
   ]
  },
  {
   "cell_type": "code",
   "execution_count": 7,
   "id": "698d33ae",
   "metadata": {},
   "outputs": [
    {
     "name": "stdout",
     "output_type": "stream",
     "text": [
      "Accuracy :  0.59\n"
     ]
    }
   ],
   "source": [
    "from sklearn.metrics import accuracy_score\n",
    "print ('Accuracy : ', accuracy_score(ytest, predt))"
   ]
  },
  {
   "cell_type": "code",
   "execution_count": 8,
   "id": "d37a0468",
   "metadata": {},
   "outputs": [],
   "source": [
    "#feature Scaling  \n",
    "from sklearn.preprocessing import StandardScaler    \n",
    "from sklearn.preprocessing import MinMaxScaler\n",
    "scaler = MinMaxScaler()\n",
    "st_x= StandardScaler()\n",
    "\n",
    "x_train= scaler.fit_transform(x_train)    \n",
    "x_test= scaler.transform(x_test) "
   ]
  },
  {
   "cell_type": "code",
   "execution_count": 9,
   "id": "faa4dd2a",
   "metadata": {},
   "outputs": [
    {
     "data": {
      "text/plain": [
       "GaussianNB()"
      ]
     },
     "execution_count": 9,
     "metadata": {},
     "output_type": "execute_result"
    }
   ],
   "source": [
    "#Fitting K-NN classifier to the training set  \n",
    "from sklearn.neighbors import KNeighborsClassifier  \n",
    "from sklearn.naive_bayes import GaussianNB\n",
    "#classifier= KNeighborsClassifier(n_neighbors=5, metric='minkowski', p=2 ) \n",
    "gnb = GaussianNB()\n",
    "gnb.fit(x_train, y_train)  "
   ]
  },
  {
   "cell_type": "code",
   "execution_count": 10,
   "id": "29b926ef",
   "metadata": {},
   "outputs": [
    {
     "data": {
      "text/plain": [
       "MultinomialNB(alpha=True)"
      ]
     },
     "execution_count": 10,
     "metadata": {},
     "output_type": "execute_result"
    }
   ],
   "source": [
    "from sklearn.naive_bayes import MultinomialNB\n",
    "clf = MultinomialNB(alpha=True)\n",
    "clf.fit(x_train, y_train)"
   ]
  },
  {
   "cell_type": "code",
   "execution_count": 11,
   "id": "b6977ffb",
   "metadata": {},
   "outputs": [],
   "source": [
    "pre = clf.predict(x_test)"
   ]
  },
  {
   "cell_type": "code",
   "execution_count": 12,
   "id": "3ac867c0",
   "metadata": {},
   "outputs": [
    {
     "data": {
      "text/plain": [
       "array([0, 0, 0, 0, 0, 0, 0, 0, 0, 0, 0, 0, 0, 0, 0, 0, 0, 0, 0, 0, 0, 0,\n",
       "       0, 0, 0, 0, 0, 0, 0, 0, 0, 0, 0, 0, 0, 0, 0, 0, 0, 0, 0, 0, 0, 0,\n",
       "       0, 0, 0, 0, 0, 0, 0, 0, 0, 0, 0, 0, 0, 0, 0, 0, 0, 0, 0, 0, 0, 0,\n",
       "       0, 0, 0, 0, 0, 0, 0, 0, 0, 0, 0, 0, 0, 0, 0, 0, 0, 0, 0, 0, 0, 0,\n",
       "       0, 0, 0, 0, 0, 0, 0, 0, 0, 0, 0, 0], dtype=int64)"
      ]
     },
     "execution_count": 12,
     "metadata": {},
     "output_type": "execute_result"
    }
   ],
   "source": [
    "pre"
   ]
  },
  {
   "cell_type": "code",
   "execution_count": 13,
   "id": "8dd24a5d",
   "metadata": {},
   "outputs": [],
   "source": [
    "#Predicting the test set result  \n",
    "#y_pred=classifier.predict(x_test)\n",
    "y_pred=gnb.predict(x_test)"
   ]
  },
  {
   "cell_type": "code",
   "execution_count": 14,
   "id": "32be11eb",
   "metadata": {},
   "outputs": [
    {
     "name": "stdout",
     "output_type": "stream",
     "text": [
      "Accuracy :  0.68\n"
     ]
    }
   ],
   "source": [
    "from sklearn.metrics import accuracy_score\n",
    "print ('Accuracy : ', accuracy_score(y_test, pre))"
   ]
  },
  {
   "cell_type": "code",
   "execution_count": 15,
   "id": "526d042c",
   "metadata": {},
   "outputs": [],
   "source": [
    "from sklearn.neighbors import KNeighborsClassifier\n",
    "neigh = KNeighborsClassifier(n_neighbors=3)"
   ]
  },
  {
   "cell_type": "code",
   "execution_count": 16,
   "id": "f461c9ba",
   "metadata": {},
   "outputs": [
    {
     "data": {
      "text/plain": [
       "KNeighborsClassifier(n_neighbors=3)"
      ]
     },
     "execution_count": 16,
     "metadata": {},
     "output_type": "execute_result"
    }
   ],
   "source": [
    "neigh.fit(x_train, y_train)"
   ]
  },
  {
   "cell_type": "code",
   "execution_count": 17,
   "id": "72cdb44b",
   "metadata": {},
   "outputs": [
    {
     "data": {
      "text/plain": [
       "array([0, 0, 0, 0, 0, 0, 0, 1, 0, 1, 0, 0, 0, 0, 0, 1, 0, 0, 1, 0, 0, 1,\n",
       "       0, 1, 0, 1, 0, 0, 0, 0, 0, 0, 1, 0, 0, 0, 0, 0, 0, 1, 0, 0, 0, 0,\n",
       "       1, 0, 0, 1, 0, 1, 1, 0, 0, 1, 1, 1, 0, 0, 1, 0, 0, 1, 0, 1, 0, 1,\n",
       "       0, 0, 0, 0, 1, 0, 0, 1, 0, 0, 0, 0, 1, 1, 1, 1, 0, 0, 1, 0, 0, 1,\n",
       "       1, 0, 0, 1, 0, 0, 0, 0, 0, 1, 1, 1], dtype=int64)"
      ]
     },
     "execution_count": 17,
     "metadata": {},
     "output_type": "execute_result"
    }
   ],
   "source": [
    "p= neigh.predict(x_test)\n",
    "p"
   ]
  },
  {
   "cell_type": "code",
   "execution_count": 18,
   "id": "4c038943",
   "metadata": {},
   "outputs": [
    {
     "name": "stdout",
     "output_type": "stream",
     "text": [
      "Accuracy :  0.93\n"
     ]
    }
   ],
   "source": [
    "print ('Accuracy : ', accuracy_score(y_test, p))"
   ]
  },
  {
   "cell_type": "code",
   "execution_count": 19,
   "id": "e954d142",
   "metadata": {},
   "outputs": [
    {
     "name": "stdout",
     "output_type": "stream",
     "text": [
      "Confusion Matrix : \n",
      " [[65  3]\n",
      " [ 7 25]]\n"
     ]
    }
   ],
   "source": [
    "#Creating the Confusion matrix  \n",
    "from sklearn.metrics import confusion_matrix  \n",
    "cm= confusion_matrix(y_test, y_pred)  \n",
    "print('Confusion Matrix : \\n',cm)"
   ]
  },
  {
   "cell_type": "code",
   "execution_count": 20,
   "id": "4dd20d99",
   "metadata": {},
   "outputs": [
    {
     "name": "stderr",
     "output_type": "stream",
     "text": [
      "*c* argument looks like a single numeric RGB or RGBA sequence, which should be avoided as value-mapping will have precedence in case its length matches with *x* & *y*.  Please use the *color* keyword-argument or provide a 2D array with a single row if you intend to specify the same RGB or RGBA value for all points.\n",
      "*c* argument looks like a single numeric RGB or RGBA sequence, which should be avoided as value-mapping will have precedence in case its length matches with *x* & *y*.  Please use the *color* keyword-argument or provide a 2D array with a single row if you intend to specify the same RGB or RGBA value for all points.\n"
     ]
    },
    {
     "data": {
      "image/png": "[encoded data removed]",
      "text/plain": [
       "<Figure size 432x288 with 1 Axes>"
      ]
     },
     "metadata": {
      "needs_background": "light"
     },
     "output_type": "display_data"
    }
   ],
   "source": [
    "#Visulaizing the trianing set result  \n",
    "from matplotlib.colors import ListedColormap  \n",
    "x_set, y_set = x_train, y_train  \n",
    "x1, x2 = nm.meshgrid(nm.arange(start = x_set[:, 0].min() - 1, stop = x_set[:, 0].max() + 1, step  =0.01),  \n",
    "nm.arange(start = x_set[:, 1].min() - 1, stop = x_set[:, 1].max() + 1, step = 0.01))  \n",
    "mtp.contourf(x1, x2, gnb.predict(nm.array([x1.ravel(), x2.ravel()]).T).reshape(x1.shape),  \n",
    "alpha = 0.75, cmap = ListedColormap(('red','green' )))  \n",
    "mtp.xlim(x1.min(), x1.max())  \n",
    "mtp.ylim(x2.min(), x2.max())  \n",
    "for i, j in enumerate(nm.unique(y_set)):  \n",
    "    mtp.scatter(x_set[y_set == j, 0], x_set[y_set == j, 1],  \n",
    "        c = ListedColormap(('red', 'green'))(i), label = j)  \n",
    "mtp.title('K-NN Algorithm (Training set)')  \n",
    "mtp.xlabel('Age')  \n",
    "mtp.ylabel('Estimated Salary')  \n",
    "mtp.legend()  \n",
    "mtp.show()  "
   ]
  },
  {
   "cell_type": "code",
   "execution_count": 21,
   "id": "933c4ffc",
   "metadata": {},
   "outputs": [
    {
     "name": "stderr",
     "output_type": "stream",
     "text": [
      "*c* argument looks like a single numeric RGB or RGBA sequence, which should be avoided as value-mapping will have precedence in case its length matches with *x* & *y*.  Please use the *color* keyword-argument or provide a 2D array with a single row if you intend to specify the same RGB or RGBA value for all points.\n",
      "*c* argument looks like a single numeric RGB or RGBA sequence, which should be avoided as value-mapping will have precedence in case its length matches with *x* & *y*.  Please use the *color* keyword-argument or provide a 2D array with a single row if you intend to specify the same RGB or RGBA value for all points.\n"
     ]
    },
    {
     "data": {
      "image/png": "[encoded data removed]",
      "text/plain": [
       "<Figure size 432x288 with 1 Axes>"
      ]
     },
     "metadata": {
      "needs_background": "light"
     },
     "output_type": "display_data"
    }
   ],
   "source": [
    "#Visualizing the test set result  \n",
    "from matplotlib.colors import ListedColormap  \n",
    "x_set, y_set = x_test, y_test  \n",
    "x1, x2 = nm.meshgrid(nm.arange(start = x_set[:, 0].min() - 1, stop = x_set[:, 0].max() + 1, step  =0.01),  \n",
    "nm.arange(start = x_set[:, 1].min() - 1, stop = x_set[:, 1].max() + 1, step = 0.01))  \n",
    "mtp.contourf(x1, x2, gnb.predict(nm.array([x1.ravel(), x2.ravel()]).T).reshape(x1.shape),  \n",
    "alpha = 0.75, cmap = ListedColormap(('red','green' )))  \n",
    "mtp.xlim(x1.min(), x1.max())  \n",
    "mtp.ylim(x2.min(), x2.max())  \n",
    "for i, j in enumerate(nm.unique(y_set)):  \n",
    "    mtp.scatter(x_set[y_set == j, 0], x_set[y_set == j, 1],  \n",
    "        c = ListedColormap(('red', 'green'))(i), label = j)  \n",
    "mtp.title('K-NN algorithm(Test set)')  \n",
    "mtp.xlabel('Age')  \n",
    "mtp.ylabel('Estimated Salary')  \n",
    "mtp.legend()  \n",
    "mtp.show()  "
   ]
  },
  {
   "cell_type": "code",
   "execution_count": 22,
   "id": "20ffd68b",
   "metadata": {},
   "outputs": [
    {
     "name": "stdout",
     "output_type": "stream",
     "text": [
      "Accuracy :  0.9\n"
     ]
    }
   ],
   "source": [
    "from sklearn.metrics import accuracy_score\n",
    "print ('Accuracy : ', accuracy_score(y_test, y_pred))"
   ]
  },
  {
   "cell_type": "code",
   "execution_count": 23,
   "id": "cc329484",
   "metadata": {},
   "outputs": [
    {
     "data": {
      "text/plain": [
       "array([[0.61904762, 0.17777778],\n",
       "       [0.33333333, 0.77777778],\n",
       "       [0.47619048, 0.25925926],\n",
       "       [0.33333333, 0.88888889],\n",
       "       [0.80952381, 0.04444444],\n",
       "       [0.83333333, 0.65925926],\n",
       "       [0.5       , 0.2       ],\n",
       "       [0.47619048, 0.34074074],\n",
       "       [0.42857143, 0.25925926],\n",
       "       [0.42857143, 0.35555556],\n",
       "       [0.4047619 , 0.07407407],\n",
       "       [0.4047619 , 0.25925926],\n",
       "       [0.57142857, 0.42962963],\n",
       "       [0.69047619, 0.25185185],\n",
       "       [0.97619048, 0.1037037 ],\n",
       "       [0.73809524, 0.37037037],\n",
       "       [0.64285714, 0.85925926],\n",
       "       [0.30952381, 0.54814815],\n",
       "       [0.66666667, 0.4962963 ],\n",
       "       [0.69047619, 0.26666667],\n",
       "       [0.19047619, 0.        ],\n",
       "       [1.        , 0.64444444],\n",
       "       [0.47619048, 0.71851852],\n",
       "       [0.52380952, 0.68148148],\n",
       "       [0.57142857, 0.28148148],\n",
       "       [0.4047619 , 0.32592593],\n",
       "       [0.71428571, 0.19259259],\n",
       "       [0.71428571, 0.88148148],\n",
       "       [0.47619048, 0.72592593],\n",
       "       [0.26190476, 0.98518519],\n",
       "       [0.19047619, 0.        ],\n",
       "       [1.        , 0.2       ],\n",
       "       [0.14285714, 0.02962963],\n",
       "       [0.57142857, 0.99259259],\n",
       "       [0.66666667, 0.6       ],\n",
       "       [0.23809524, 0.32592593],\n",
       "       [0.5       , 0.6       ],\n",
       "       [0.23809524, 0.54814815],\n",
       "       [0.54761905, 0.42222222],\n",
       "       [0.64285714, 0.08148148],\n",
       "       [0.35714286, 0.4       ],\n",
       "       [0.04761905, 0.4962963 ],\n",
       "       [0.30952381, 0.43703704],\n",
       "       [0.57142857, 0.48148148],\n",
       "       [0.4047619 , 0.42222222],\n",
       "       [0.35714286, 0.99259259],\n",
       "       [0.52380952, 0.41481481],\n",
       "       [0.78571429, 0.97037037],\n",
       "       [0.66666667, 0.47407407],\n",
       "       [0.4047619 , 0.44444444],\n",
       "       [0.47619048, 0.26666667],\n",
       "       [0.42857143, 0.44444444],\n",
       "       [0.45238095, 0.46666667],\n",
       "       [0.47619048, 0.34074074],\n",
       "       [1.        , 0.68888889],\n",
       "       [0.04761905, 0.4962963 ],\n",
       "       [0.92857143, 0.43703704],\n",
       "       [0.57142857, 0.37037037],\n",
       "       [0.19047619, 0.48148148],\n",
       "       [0.66666667, 0.75555556],\n",
       "       [0.4047619 , 0.34074074],\n",
       "       [0.07142857, 0.39259259],\n",
       "       [0.23809524, 0.21481481],\n",
       "       [0.54761905, 0.53333333],\n",
       "       [0.45238095, 0.13333333],\n",
       "       [0.21428571, 0.55555556],\n",
       "       [0.5       , 0.2       ],\n",
       "       [0.23809524, 0.8       ],\n",
       "       [0.30952381, 0.76296296],\n",
       "       [0.16666667, 0.53333333],\n",
       "       [0.4047619 , 0.41481481],\n",
       "       [0.45238095, 0.40740741],\n",
       "       [0.4047619 , 0.17777778],\n",
       "       [0.69047619, 0.05925926],\n",
       "       [0.4047619 , 0.97777778],\n",
       "       [0.71428571, 0.91111111],\n",
       "       [0.19047619, 0.52592593],\n",
       "       [0.16666667, 0.47407407],\n",
       "       [0.80952381, 0.91111111],\n",
       "       [0.78571429, 0.05925926],\n",
       "       [0.4047619 , 0.33333333],\n",
       "       [0.35714286, 0.72592593],\n",
       "       [0.28571429, 0.68148148],\n",
       "       [0.71428571, 0.13333333],\n",
       "       [0.54761905, 0.48148148],\n",
       "       [0.71428571, 0.6       ],\n",
       "       [0.30952381, 0.02222222],\n",
       "       [0.30952381, 0.41481481],\n",
       "       [0.5952381 , 0.84444444],\n",
       "       [0.97619048, 0.45185185],\n",
       "       [0.        , 0.21481481],\n",
       "       [0.42857143, 0.76296296],\n",
       "       [0.57142857, 0.55555556],\n",
       "       [0.69047619, 0.11111111],\n",
       "       [0.19047619, 0.20740741],\n",
       "       [0.52380952, 0.46666667],\n",
       "       [0.66666667, 0.32592593],\n",
       "       [0.97619048, 0.2       ],\n",
       "       [0.66666667, 0.43703704],\n",
       "       [0.4047619 , 0.56296296],\n",
       "       [0.23809524, 0.32592593],\n",
       "       [0.52380952, 0.31111111],\n",
       "       [0.97619048, 0.94814815],\n",
       "       [0.92857143, 0.08148148],\n",
       "       [0.80952381, 0.17037037],\n",
       "       [0.69047619, 0.72592593],\n",
       "       [0.83333333, 0.94814815],\n",
       "       [0.4047619 , 0.08888889],\n",
       "       [0.95238095, 0.63703704],\n",
       "       [0.64285714, 0.22222222],\n",
       "       [0.11904762, 0.4962963 ],\n",
       "       [0.66666667, 0.05925926],\n",
       "       [0.57142857, 0.37037037],\n",
       "       [0.23809524, 0.51111111],\n",
       "       [0.47619048, 0.32592593],\n",
       "       [0.19047619, 0.51111111],\n",
       "       [0.26190476, 0.0962963 ],\n",
       "       [0.45238095, 0.41481481],\n",
       "       [0.0952381 , 0.2962963 ],\n",
       "       [0.71428571, 0.14814815],\n",
       "       [0.73809524, 0.0962963 ],\n",
       "       [0.47619048, 0.37037037],\n",
       "       [0.21428571, 0.01481481],\n",
       "       [0.66666667, 0.0962963 ],\n",
       "       [0.71428571, 0.93333333],\n",
       "       [0.19047619, 0.01481481],\n",
       "       [0.4047619 , 0.60740741],\n",
       "       [0.5       , 0.32592593],\n",
       "       [0.14285714, 0.08888889],\n",
       "       [0.33333333, 0.02222222],\n",
       "       [0.66666667, 0.54074074],\n",
       "       [0.4047619 , 0.31851852],\n",
       "       [0.9047619 , 0.33333333],\n",
       "       [0.69047619, 0.14074074],\n",
       "       [0.52380952, 0.42222222],\n",
       "       [0.33333333, 0.62962963],\n",
       "       [0.02380952, 0.04444444],\n",
       "       [0.16666667, 0.55555556],\n",
       "       [0.4047619 , 0.54074074],\n",
       "       [0.23809524, 0.12592593],\n",
       "       [0.76190476, 0.03703704],\n",
       "       [0.52380952, 0.32592593],\n",
       "       [0.76190476, 0.21481481],\n",
       "       [0.4047619 , 0.42222222],\n",
       "       [0.52380952, 0.94074074],\n",
       "       [0.66666667, 0.12592593],\n",
       "       [0.5       , 0.41481481],\n",
       "       [0.04761905, 0.43703704],\n",
       "       [0.26190476, 0.44444444],\n",
       "       [0.30952381, 0.45185185],\n",
       "       [0.69047619, 0.07407407],\n",
       "       [0.52380952, 0.34074074],\n",
       "       [0.38095238, 0.71851852],\n",
       "       [0.47619048, 0.48148148],\n",
       "       [0.57142857, 0.44444444],\n",
       "       [0.69047619, 0.23703704],\n",
       "       [0.5       , 0.44444444],\n",
       "       [0.02380952, 0.07407407],\n",
       "       [0.45238095, 0.48148148],\n",
       "       [0.42857143, 0.33333333],\n",
       "       [0.54761905, 0.27407407],\n",
       "       [0.42857143, 0.81481481],\n",
       "       [0.71428571, 0.1037037 ],\n",
       "       [0.42857143, 0.82222222],\n",
       "       [0.78571429, 0.88148148],\n",
       "       [0.21428571, 0.31111111],\n",
       "       [0.47619048, 0.41481481],\n",
       "       [0.5       , 0.34074074],\n",
       "       [0.0952381 , 0.08888889],\n",
       "       [0.35714286, 0.33333333],\n",
       "       [0.71428571, 0.43703704],\n",
       "       [0.95238095, 0.05925926],\n",
       "       [0.83333333, 0.42222222],\n",
       "       [0.33333333, 0.75555556],\n",
       "       [0.85714286, 0.40740741],\n",
       "       [0.28571429, 0.48148148],\n",
       "       [0.95238095, 0.59259259],\n",
       "       [0.19047619, 0.27407407],\n",
       "       [0.64285714, 0.47407407],\n",
       "       [0.14285714, 0.2962963 ],\n",
       "       [0.52380952, 0.44444444],\n",
       "       [0.35714286, 0.0962963 ],\n",
       "       [0.61904762, 0.91851852],\n",
       "       [0.0952381 , 0.02222222],\n",
       "       [0.35714286, 0.26666667],\n",
       "       [0.5952381 , 0.87407407],\n",
       "       [0.14285714, 0.12592593],\n",
       "       [0.66666667, 0.05185185],\n",
       "       [0.4047619 , 0.2962963 ],\n",
       "       [0.85714286, 0.65925926],\n",
       "       [0.71428571, 0.77037037],\n",
       "       [0.4047619 , 0.28148148],\n",
       "       [0.45238095, 0.95555556],\n",
       "       [0.11904762, 0.37777778],\n",
       "       [0.45238095, 0.9037037 ],\n",
       "       [0.30952381, 0.31851852],\n",
       "       [0.35714286, 0.19259259],\n",
       "       [0.64285714, 0.05185185],\n",
       "       [0.28571429, 0.        ],\n",
       "       [0.02380952, 0.02962963],\n",
       "       [0.73809524, 0.43703704],\n",
       "       [0.5       , 0.79259259],\n",
       "       [0.4047619 , 0.42962963],\n",
       "       [0.5       , 0.41481481],\n",
       "       [0.14285714, 0.05925926],\n",
       "       [0.54761905, 0.42222222],\n",
       "       [0.26190476, 0.5037037 ],\n",
       "       [0.85714286, 0.08148148],\n",
       "       [0.4047619 , 0.21481481],\n",
       "       [0.45238095, 0.44444444],\n",
       "       [0.26190476, 0.23703704],\n",
       "       [0.30952381, 0.39259259],\n",
       "       [0.57142857, 0.28888889],\n",
       "       [0.28571429, 0.88888889],\n",
       "       [0.80952381, 0.73333333],\n",
       "       [0.76190476, 0.15555556],\n",
       "       [0.9047619 , 0.87407407],\n",
       "       [0.26190476, 0.34074074],\n",
       "       [0.28571429, 0.54814815],\n",
       "       [0.19047619, 0.00740741],\n",
       "       [0.35714286, 0.11851852],\n",
       "       [0.54761905, 0.42222222],\n",
       "       [0.42857143, 0.13333333],\n",
       "       [0.88095238, 0.81481481],\n",
       "       [0.71428571, 0.85925926],\n",
       "       [0.54761905, 0.41481481],\n",
       "       [0.28571429, 0.34814815],\n",
       "       [0.45238095, 0.42222222],\n",
       "       [0.54761905, 0.35555556],\n",
       "       [0.95238095, 0.23703704],\n",
       "       [0.28571429, 0.74814815],\n",
       "       [0.04761905, 0.25185185],\n",
       "       [0.45238095, 0.43703704],\n",
       "       [0.54761905, 0.32592593],\n",
       "       [0.73809524, 0.54814815],\n",
       "       [0.23809524, 0.47407407],\n",
       "       [0.83333333, 0.4962963 ],\n",
       "       [0.52380952, 0.31111111],\n",
       "       [1.        , 0.14074074],\n",
       "       [0.4047619 , 0.68888889],\n",
       "       [0.07142857, 0.42222222],\n",
       "       [0.47619048, 0.41481481],\n",
       "       [0.5       , 0.67407407],\n",
       "       [0.45238095, 0.31111111],\n",
       "       [0.19047619, 0.42222222],\n",
       "       [0.4047619 , 0.05925926],\n",
       "       [0.85714286, 0.68888889],\n",
       "       [0.28571429, 0.01481481],\n",
       "       [0.5       , 0.88148148],\n",
       "       [0.26190476, 0.20740741],\n",
       "       [0.35714286, 0.20740741],\n",
       "       [0.4047619 , 0.17037037],\n",
       "       [0.54761905, 0.22222222],\n",
       "       [0.54761905, 0.42222222],\n",
       "       [0.5       , 0.88148148],\n",
       "       [0.21428571, 0.9037037 ],\n",
       "       [0.07142857, 0.00740741],\n",
       "       [0.19047619, 0.12592593],\n",
       "       [0.30952381, 0.37777778],\n",
       "       [0.5       , 0.42962963],\n",
       "       [0.54761905, 0.47407407],\n",
       "       [0.69047619, 0.25925926],\n",
       "       [0.54761905, 0.11111111],\n",
       "       [0.45238095, 0.57777778],\n",
       "       [1.        , 0.22962963],\n",
       "       [0.16666667, 0.05185185],\n",
       "       [0.23809524, 0.16296296],\n",
       "       [0.47619048, 0.2962963 ],\n",
       "       [0.42857143, 0.28888889],\n",
       "       [0.04761905, 0.15555556],\n",
       "       [0.9047619 , 0.65925926],\n",
       "       [0.52380952, 0.31111111],\n",
       "       [0.57142857, 0.68888889],\n",
       "       [0.04761905, 0.05925926],\n",
       "       [0.52380952, 0.37037037],\n",
       "       [0.69047619, 0.03703704],\n",
       "       [0.        , 0.52592593],\n",
       "       [0.4047619 , 0.47407407],\n",
       "       [0.92857143, 0.13333333],\n",
       "       [0.38095238, 0.42222222],\n",
       "       [0.73809524, 0.17777778],\n",
       "       [0.21428571, 0.11851852],\n",
       "       [0.02380952, 0.40740741],\n",
       "       [0.5       , 0.47407407],\n",
       "       [0.19047619, 0.48888889],\n",
       "       [0.16666667, 0.48148148],\n",
       "       [0.23809524, 0.51851852],\n",
       "       [0.88095238, 0.17777778],\n",
       "       [0.76190476, 0.54074074],\n",
       "       [0.73809524, 0.54074074],\n",
       "       [0.80952381, 1.        ],\n",
       "       [0.4047619 , 0.37037037],\n",
       "       [0.57142857, 0.28888889],\n",
       "       [0.38095238, 0.20740741],\n",
       "       [0.45238095, 0.27407407],\n",
       "       [0.71428571, 0.11111111],\n",
       "       [0.26190476, 0.20740741],\n",
       "       [0.42857143, 0.27407407],\n",
       "       [0.21428571, 0.28888889],\n",
       "       [0.19047619, 0.76296296]])"
      ]
     },
     "execution_count": 23,
     "metadata": {},
     "output_type": "execute_result"
    }
   ],
   "source": [
    "x_train"
   ]
  },
  {
   "cell_type": "code",
   "execution_count": 24,
   "id": "e2d2758d",
   "metadata": {},
   "outputs": [
    {
     "data": {
      "text/plain": [
       "array([0, 1, 0, 1, 1, 1, 0, 0, 0, 0, 0, 0, 1, 1, 1, 0, 1, 0, 0, 1, 0, 1,\n",
       "       0, 1, 0, 0, 1, 1, 1, 1, 0, 1, 0, 1, 0, 0, 1, 0, 0, 1, 0, 0, 0, 0,\n",
       "       0, 1, 1, 1, 1, 0, 0, 0, 1, 0, 1, 0, 1, 0, 0, 1, 0, 0, 0, 1, 0, 0,\n",
       "       0, 1, 1, 0, 0, 1, 0, 1, 1, 1, 0, 0, 1, 1, 0, 0, 1, 1, 0, 1, 0, 0,\n",
       "       1, 1, 0, 1, 1, 1, 0, 0, 0, 0, 0, 1, 0, 0, 1, 1, 1, 1, 1, 0, 1, 1,\n",
       "       0, 1, 0, 0, 0, 0, 0, 0, 0, 1, 1, 0, 0, 1, 0, 0, 1, 0, 0, 0, 1, 0,\n",
       "       1, 1, 0, 1, 0, 0, 0, 0, 1, 0, 0, 0, 1, 1, 0, 0, 0, 0, 1, 0, 1, 0,\n",
       "       0, 0, 1, 0, 0, 0, 0, 1, 1, 1, 0, 0, 0, 0, 0, 0, 1, 1, 1, 1, 1, 0,\n",
       "       1, 0, 0, 0, 0, 0, 1, 0, 0, 0, 0, 0, 0, 1, 1, 0, 1, 0, 1, 0, 0, 1,\n",
       "       0, 0, 0, 1, 0, 0, 0, 0, 0, 1, 0, 0, 0, 0, 0, 1, 0, 1, 1, 0, 0, 0,\n",
       "       0, 0, 0, 1, 1, 0, 0, 0, 0, 1, 0, 0, 0, 0, 1, 0, 1, 0, 1, 0, 0, 0,\n",
       "       1, 0, 0, 0, 1, 0, 1, 0, 0, 0, 0, 0, 1, 1, 0, 0, 0, 0, 0, 1, 0, 1,\n",
       "       1, 0, 0, 0, 0, 0, 1, 0, 1, 0, 0, 1, 0, 0, 1, 0, 1, 0, 0, 0, 0, 0,\n",
       "       0, 1, 1, 1, 1, 0, 0, 0, 0, 1, 0, 0, 0, 0], dtype=int64)"
      ]
     },
     "execution_count": 24,
     "metadata": {},
     "output_type": "execute_result"
    }
   ],
   "source": [
    "y_train"
   ]
  },
  {
   "cell_type": "code",
   "execution_count": 25,
   "id": "55dfd2da",
   "metadata": {},
   "outputs": [
    {
     "data": {
      "text/plain": [
       "array([[0.28571429, 0.53333333],\n",
       "       [0.47619048, 0.25925926],\n",
       "       [0.4047619 , 0.44444444],\n",
       "       [0.28571429, 0.47407407],\n",
       "       [0.4047619 , 0.25925926],\n",
       "       [0.21428571, 0.03703704],\n",
       "       [0.30952381, 0.        ],\n",
       "       [0.42857143, 0.95555556],\n",
       "       [0.        , 0.39259259],\n",
       "       [0.69047619, 0.20740741],\n",
       "       [0.28571429, 0.25185185],\n",
       "       [0.23809524, 0.2962963 ],\n",
       "       [0.45238095, 0.2962963 ],\n",
       "       [0.5       , 0.45925926],\n",
       "       [0.04761905, 0.52592593],\n",
       "       [0.33333333, 0.75555556],\n",
       "       [0.45238095, 0.45925926],\n",
       "       [0.02380952, 0.51851852],\n",
       "       [0.88095238, 0.85185185],\n",
       "       [0.4047619 , 0.05185185],\n",
       "       [0.4047619 , 0.23703704],\n",
       "       [0.69047619, 0.95555556],\n",
       "       [0.54761905, 0.26666667],\n",
       "       [0.69047619, 0.66666667],\n",
       "       [0.11904762, 0.0962963 ],\n",
       "       [0.73809524, 0.93333333],\n",
       "       [0.23809524, 0.53333333],\n",
       "       [0.26190476, 0.48148148],\n",
       "       [0.45238095, 0.34814815],\n",
       "       [0.33333333, 0.52592593],\n",
       "       [0.07142857, 0.54074074],\n",
       "       [0.45238095, 0.47407407],\n",
       "       [0.92857143, 0.33333333],\n",
       "       [0.45238095, 0.28148148],\n",
       "       [0.14285714, 0.31851852],\n",
       "       [0.        , 0.27407407],\n",
       "       [0.0952381 , 0.48888889],\n",
       "       [0.38095238, 0.20740741],\n",
       "       [0.30952381, 0.14074074],\n",
       "       [0.73809524, 0.15555556],\n",
       "       [0.21428571, 0.54074074],\n",
       "       [0.54761905, 0.27407407],\n",
       "       [0.21428571, 0.51111111],\n",
       "       [0.4047619 , 0.03703704],\n",
       "       [0.5952381 , 0.71851852],\n",
       "       [0.21428571, 0.31851852],\n",
       "       [0.45238095, 0.48148148],\n",
       "       [0.80952381, 0.55555556],\n",
       "       [0.19047619, 0.11111111],\n",
       "       [0.73809524, 0.52592593],\n",
       "       [0.92857143, 0.79259259],\n",
       "       [0.38095238, 0.07407407],\n",
       "       [0.4047619 , 0.31111111],\n",
       "       [0.38095238, 0.74074074],\n",
       "       [0.97619048, 0.54074074],\n",
       "       [0.64285714, 0.12592593],\n",
       "       [0.26190476, 0.5037037 ],\n",
       "       [0.19047619, 0.48148148],\n",
       "       [0.73809524, 0.0962963 ],\n",
       "       [0.11904762, 0.03703704],\n",
       "       [0.33333333, 0.02222222],\n",
       "       [1.        , 0.2       ],\n",
       "       [0.02380952, 0.45185185],\n",
       "       [0.42857143, 0.62222222],\n",
       "       [0.02380952, 0.08148148],\n",
       "       [1.        , 0.5037037 ],\n",
       "       [0.14285714, 0.54814815],\n",
       "       [0.21428571, 0.31851852],\n",
       "       [0.52380952, 0.23703704],\n",
       "       [0.57142857, 0.40740741],\n",
       "       [0.33333333, 1.        ],\n",
       "       [0.4047619 , 0.45925926],\n",
       "       [0.0952381 , 0.35555556],\n",
       "       [0.64285714, 0.05185185],\n",
       "       [0.21428571, 0.54814815],\n",
       "       [0.        , 0.4962963 ],\n",
       "       [0.57142857, 0.47407407],\n",
       "       [0.52380952, 0.33333333],\n",
       "       [0.83333333, 0.14074074],\n",
       "       [0.69047619, 0.68148148],\n",
       "       [0.95238095, 0.95555556],\n",
       "       [0.97619048, 0.5037037 ],\n",
       "       [0.14285714, 0.2962963 ],\n",
       "       [0.19047619, 0.14814815],\n",
       "       [0.95238095, 0.17037037],\n",
       "       [0.57142857, 0.48148148],\n",
       "       [0.52380952, 0.44444444],\n",
       "       [0.97619048, 0.85185185],\n",
       "       [0.66666667, 0.19259259],\n",
       "       [0.54761905, 0.33333333],\n",
       "       [0.57142857, 0.36296296],\n",
       "       [0.45238095, 0.97037037],\n",
       "       [0.11904762, 0.24444444],\n",
       "       [0.16666667, 0.13333333],\n",
       "       [0.14285714, 0.51111111],\n",
       "       [0.21428571, 0.6       ],\n",
       "       [0.11904762, 0.35555556],\n",
       "       [0.71428571, 0.13333333],\n",
       "       [0.71428571, 0.55555556],\n",
       "       [0.57142857, 0.65925926]])"
      ]
     },
     "execution_count": 25,
     "metadata": {},
     "output_type": "execute_result"
    }
   ],
   "source": [
    "\n",
    "x_test"
   ]
  },
  {
   "cell_type": "code",
   "execution_count": 26,
   "id": "191ea890",
   "metadata": {},
   "outputs": [
    {
     "data": {
      "text/plain": [
       "array([0, 0, 0, 0, 0, 0, 0, 1, 0, 0, 0, 0, 0, 0, 0, 0, 0, 0, 1, 0, 0, 1,\n",
       "       0, 1, 0, 1, 0, 0, 0, 0, 0, 1, 1, 0, 0, 0, 0, 0, 0, 1, 0, 0, 0, 0,\n",
       "       1, 0, 0, 1, 0, 1, 1, 0, 0, 0, 1, 1, 0, 0, 1, 0, 0, 1, 0, 1, 0, 1,\n",
       "       0, 0, 0, 0, 1, 0, 0, 1, 0, 0, 0, 0, 1, 1, 1, 0, 0, 0, 1, 1, 0, 1,\n",
       "       1, 0, 0, 1, 0, 0, 0, 1, 0, 1, 1, 1], dtype=int64)"
      ]
     },
     "execution_count": 26,
     "metadata": {},
     "output_type": "execute_result"
    }
   ],
   "source": [
    "y_set"
   ]
  },
  {
   "cell_type": "code",
   "execution_count": 27,
   "id": "b1fbea98",
   "metadata": {},
   "outputs": [
    {
     "data": {
      "text/plain": [
       "GaussianNB()"
      ]
     },
     "execution_count": 27,
     "metadata": {},
     "output_type": "execute_result"
    }
   ],
   "source": [
    "from sklearn.naive_bayes import GaussianNB\n",
    "gnb = GaussianNB()\n",
    "gnb.fit(x_train, y_train)  "
   ]
  },
  {
   "cell_type": "code",
   "execution_count": null,
   "id": "50b72c5c",
   "metadata": {},
   "outputs": [],
   "source": []
  }
 ],
 "metadata": {
  "kernelspec": {
   "display_name": "Python 3 (ipykernel)",
   "language": "python",
   "name": "python3"
  },
  "language_info": {
   "codemirror_mode": {
    "name": "ipython",
    "version": 3
   },
   "file_extension": ".py",
   "mimetype": "text/x-python",
   "name": "python",
   "nbconvert_exporter": "python",
   "pygments_lexer": "ipython3",
   "version": "3.9.7"
  }
 },
 "nbformat": 4,
 "nbformat_minor": 5
}
