{
 "cells": [
  {
   "cell_type": "code",
   "execution_count": 1,
   "id": "f71cca6b",
   "metadata": {},
   "outputs": [
    {
     "name": "stdout",
     "output_type": "stream",
     "text": [
      "Frame per second:(50.0,)\n",
      "Total Frames:414.0\n",
      " Height:2160.0\n",
      "Width:3840.0\n"
     ]
    }
   ],
   "source": [
    "import cv2\n",
    "# read vedio files\n",
    "cap=cv2.VideoCapture('pexels-edward-jenner-4114797-3840x2160-50fps.mp4')\n",
    "\n",
    "video_fps=cap.get(cv2.CAP_PROP_FPS),\n",
    "total_frames=cap.get(cv2.CAP_PROP_FRAME_COUNT)\n",
    "height=cap.get(cv2.CAP_PROP_FRAME_HEIGHT)\n",
    "width=cap.get(cv2.CAP_PROP_FRAME_WIDTH)\n",
    "print(f\"Frame per second:{video_fps}\\nTotal Frames:{total_frames}\\n Height:{height}\\nWidth:{width}\")\n",
    "\n",
    "res,frame=cap.read()\n",
    "cv2.imshow('frame',frame)\n",
    "cv2.waitKey(0)\n",
    "cv2.destroyAllWindows()\n",
    "\n",
    "while True:\n",
    "    ret,frame=cap.read()\n",
    "    if not ret:break\n",
    "    cv2.imshow('frame',frame)\n",
    "    if cv2.waitKey(1) & 0xFF == ord('q'):\n",
    "        break\n",
    "cap.release()\n",
    "cv2.destroyAllWindows()"
   ]
  },
  {
   "cell_type": "code",
   "execution_count": null,
   "id": "886c39ed",
   "metadata": {},
   "outputs": [],
   "source": []
  }
 ],
 "metadata": {
  "kernelspec": {
   "display_name": "Python 3 (ipykernel)",
   "language": "python",
   "name": "python3"
  },
  "language_info": {
   "codemirror_mode": {
    "name": "ipython",
    "version": 3
   },
   "file_extension": ".py",
   "mimetype": "text/x-python",
   "name": "python",
   "nbconvert_exporter": "python",
   "pygments_lexer": "ipython3",
   "version": "3.9.7"
  }
 },
 "nbformat": 4,
 "nbformat_minor": 5
}
